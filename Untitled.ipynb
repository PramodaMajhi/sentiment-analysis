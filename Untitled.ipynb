{
 "cells": [
  {
   "cell_type": "code",
   "execution_count": 73,
   "metadata": {},
   "outputs": [],
   "source": [
    "mytext = 'I do not understand the benefits'"
   ]
  },
  {
   "cell_type": "code",
   "execution_count": 74,
   "metadata": {},
   "outputs": [],
   "source": [
    "from sklearn.externals import joblib"
   ]
  },
  {
   "cell_type": "code",
   "execution_count": 75,
   "metadata": {},
   "outputs": [],
   "source": [
    "newVector = joblib.load('classfical-vectorizer.joblib') \n",
    "newModel = joblib.load('classical-model.joblib') \n"
   ]
  },
  {
   "cell_type": "code",
   "execution_count": 76,
   "metadata": {},
   "outputs": [
    {
     "name": "stdout",
     "output_type": "stream",
     "text": [
      "Your feedback is Negative\n"
     ]
    }
   ],
   "source": [
    "# transformed \n",
    "myVectortest = newVector.transform([mytext])\n",
    "joblibPrectict = newModel.predict(myVectortest)\n",
    "joblibPrectict\n",
    "\n",
    "for index, feedback in enumerate(joblibPrectict):\n",
    "    if(feedback == 1):\n",
    "        print(\"Your feedback is Positive\")\n",
    "    else:\n",
    "        print(\"Your feedback is Negative\")"
   ]
  },
  {
   "cell_type": "code",
   "execution_count": null,
   "metadata": {},
   "outputs": [],
   "source": []
  }
 ],
 "metadata": {
  "kernelspec": {
   "display_name": "Python 3",
   "language": "python",
   "name": "python3"
  },
  "language_info": {
   "codemirror_mode": {
    "name": "ipython",
    "version": 3
   },
   "file_extension": ".py",
   "mimetype": "text/x-python",
   "name": "python",
   "nbconvert_exporter": "python",
   "pygments_lexer": "ipython3",
   "version": "3.6.6"
  }
 },
 "nbformat": 4,
 "nbformat_minor": 2
}
