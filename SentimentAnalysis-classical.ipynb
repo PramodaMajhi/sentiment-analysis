{
 "cells": [
  {
   "cell_type": "markdown",
   "metadata": {},
   "source": [
    "## Stage 1: Business Understanding"
   ]
  },
  {
   "cell_type": "markdown",
   "metadata": {},
   "source": [
    "This is about building a predictive model that can predict the positive or negative sentiment of customer feedback. \n",
    "\n",
    "\n",
    "\n",
    "\n",
    "\n",
    "\n",
    "\n",
    "\n",
    "\n",
    "\n",
    "\n",
    "\n",
    "\n",
    "\n",
    "\n",
    "\n"
   ]
  },
  {
   "cell_type": "code",
   "execution_count": 1,
   "metadata": {},
   "outputs": [],
   "source": [
    "import pandas as pd\n",
    "from sklearn.model_selection import train_test_split\n",
    "from sklearn.feature_extraction.text import TfidfVectorizer\n",
    "from sklearn.linear_model import LogisticRegression\n",
    "from sklearn.metrics import accuracy_score\n",
    "from sklearn.metrics import confusion_matrix\n",
    "from sklearn.metrics import precision_recall_fscore_support\n",
    "from sklearn.metrics import classification_report\n",
    "from sklearn.metrics import roc_curve, auc, roc_auc_score\n",
    "import numpy as np\n",
    "import matplotlib.pyplot as plt\n",
    "import seaborn as sns\n",
    "from sklearn.externals import joblib\n",
    "import warnings; warnings.simplefilter('ignore')\n",
    "%matplotlib inline"
   ]
  },
  {
   "cell_type": "markdown",
   "metadata": {},
   "source": [
    "## Stage 2:  Data Understanding\n",
    "\n",
    "Data Understanding which is about understanding the raw data use for building the model. In this case we have customer feedback record   data set having 3.4 million of records from Amazon. [the Amazon Product Review](http://snap.stanford.edu/data/amazon/productGraph/categoryFiles/reviews_Health_and_Personal_Care.json.gz)\n",
    "\n"
   ]
  },
  {
   "cell_type": "code",
   "execution_count": 8,
   "metadata": {},
   "outputs": [
    {
     "data": {
      "text/html": [
       "<div>\n",
       "<style scoped>\n",
       "    .dataframe tbody tr th:only-of-type {\n",
       "        vertical-align: middle;\n",
       "    }\n",
       "\n",
       "    .dataframe tbody tr th {\n",
       "        vertical-align: top;\n",
       "    }\n",
       "\n",
       "    .dataframe thead th {\n",
       "        text-align: right;\n",
       "    }\n",
       "</style>\n",
       "<table border=\"1\" class=\"dataframe\">\n",
       "  <thead>\n",
       "    <tr style=\"text-align: right;\">\n",
       "      <th></th>\n",
       "      <th>Unnamed: 0</th>\n",
       "      <th>asin</th>\n",
       "      <th>helpful</th>\n",
       "      <th>overall</th>\n",
       "      <th>reviewText</th>\n",
       "      <th>reviewTime</th>\n",
       "      <th>reviewerID</th>\n",
       "      <th>reviewerName</th>\n",
       "      <th>summary</th>\n",
       "      <th>unixReviewTime</th>\n",
       "    </tr>\n",
       "  </thead>\n",
       "  <tbody>\n",
       "    <tr>\n",
       "      <th>0</th>\n",
       "      <td>0</td>\n",
       "      <td>159985130X</td>\n",
       "      <td>[1, 1]</td>\n",
       "      <td>5.0</td>\n",
       "      <td>This is a great little gadget to have around.  We've already used it to look for splinters and a few other uses.  The light is great.  It's a handy size.  However, I do wish I'd bought one with a little higher magnification.</td>\n",
       "      <td>01 5, 2011</td>\n",
       "      <td>ALC5GH8CAMAI7</td>\n",
       "      <td>AnnN</td>\n",
       "      <td>Handy little gadget</td>\n",
       "      <td>1294185600</td>\n",
       "    </tr>\n",
       "    <tr>\n",
       "      <th>1</th>\n",
       "      <td>1</td>\n",
       "      <td>159985130X</td>\n",
       "      <td>[1, 1]</td>\n",
       "      <td>4.0</td>\n",
       "      <td>I would recommend this for a travel magnifier for the occasional reading.I had read on another review about a magnifier having a problem with the light coming on. I did find that this one appeared to be DOA out of the box. But, after opening &amp; shutting the viewer to turn on &amp; off the light, the light began to come on. After several times of doing this, the light appears to be coming on all the time.It is small, but for taking it someplace &amp; reading things like a menu in a dark corner of a restaurant, this is great.</td>\n",
       "      <td>02 18, 2012</td>\n",
       "      <td>AHKSURW85PJUE</td>\n",
       "      <td>AZ buyer \"AZ buyer\"</td>\n",
       "      <td>Small &amp; may need to encourage battery</td>\n",
       "      <td>1329523200</td>\n",
       "    </tr>\n",
       "  </tbody>\n",
       "</table>\n",
       "</div>"
      ],
      "text/plain": [
       "   Unnamed: 0        asin helpful  overall  \\\n",
       "0  0           159985130X  [1, 1]  5.0       \n",
       "1  1           159985130X  [1, 1]  4.0       \n",
       "\n",
       "                                                                                                                                                                                                                                                                                                                                                                                                                                                                                                                                 reviewText  \\\n",
       "0  This is a great little gadget to have around.  We've already used it to look for splinters and a few other uses.  The light is great.  It's a handy size.  However, I do wish I'd bought one with a little higher magnification.                                                                                                                                                                                                                                                                                                           \n",
       "1  I would recommend this for a travel magnifier for the occasional reading.I had read on another review about a magnifier having a problem with the light coming on. I did find that this one appeared to be DOA out of the box. But, after opening & shutting the viewer to turn on & off the light, the light began to come on. After several times of doing this, the light appears to be coming on all the time.It is small, but for taking it someplace & reading things like a menu in a dark corner of a restaurant, this is great.   \n",
       "\n",
       "    reviewTime     reviewerID         reviewerName  \\\n",
       "0  01 5, 2011   ALC5GH8CAMAI7  AnnN                  \n",
       "1  02 18, 2012  AHKSURW85PJUE  AZ buyer \"AZ buyer\"   \n",
       "\n",
       "                                 summary  unixReviewTime  \n",
       "0  Handy little gadget                    1294185600      \n",
       "1  Small & may need to encourage battery  1329523200      "
      ]
     },
     "execution_count": 8,
     "metadata": {},
     "output_type": "execute_result"
    }
   ],
   "source": [
    "# df = pd.read_csv(\"Output.csv\", sep='\\t', error_bad_lines= False, nrows=1000) # testing for purpose only\n",
    "df = pd.read_csv(\"Output.csv\", sep='\\t', error_bad_lines= False)\n",
    "pd.set_option('display.max_colwidth', -1)\n",
    "df.head(2)"
   ]
  },
  {
   "cell_type": "markdown",
   "metadata": {},
   "source": [
    "## Stage 3: Data Preparation\n",
    "\n",
    "All the ratings generally in the range of 1 to 5.\n",
    "\n",
    "As this is a binary classification problem, we need to convert ratings to 1 or 0, 1 for positive and 0 for negative, hold the value in a derived column review_class for to train our model.\n",
    "\n"
   ]
  },
  {
   "cell_type": "markdown",
   "metadata": {},
   "source": [
    "#### We need to convert ratings to 1 or 0, 1 for positive and 0 for negative, hold the value in a derived column review_class for to train our model."
   ]
  },
  {
   "cell_type": "code",
   "execution_count": 3,
   "metadata": {
    "scrolled": false
   },
   "outputs": [
    {
     "data": {
      "text/html": [
       "<div>\n",
       "<style scoped>\n",
       "    .dataframe tbody tr th:only-of-type {\n",
       "        vertical-align: middle;\n",
       "    }\n",
       "\n",
       "    .dataframe tbody tr th {\n",
       "        vertical-align: top;\n",
       "    }\n",
       "\n",
       "    .dataframe thead th {\n",
       "        text-align: right;\n",
       "    }\n",
       "</style>\n",
       "<table border=\"1\" class=\"dataframe\">\n",
       "  <thead>\n",
       "    <tr style=\"text-align: right;\">\n",
       "      <th></th>\n",
       "      <th>overall</th>\n",
       "      <th>reviewText</th>\n",
       "      <th>review_class</th>\n",
       "    </tr>\n",
       "  </thead>\n",
       "  <tbody>\n",
       "    <tr>\n",
       "      <th>0</th>\n",
       "      <td>5.0</td>\n",
       "      <td>This is a great little gadget to have around.  We've already used it to look for splinters and a few other uses.  The light is great.  It's a handy size.  However, I do wish I'd bought one with a little higher magnification.</td>\n",
       "      <td>1</td>\n",
       "    </tr>\n",
       "    <tr>\n",
       "      <th>1</th>\n",
       "      <td>4.0</td>\n",
       "      <td>I would recommend this for a travel magnifier for the occasional reading.I had read on another review about a magnifier having a problem with the light coming on. I did find that this one appeared to be DOA out of the box. But, after opening &amp; shutting the viewer to turn on &amp; off the light, the light began to come on. After several times of doing this, the light appears to be coming on all the time.It is small, but for taking it someplace &amp; reading things like a menu in a dark corner of a restaurant, this is great.</td>\n",
       "      <td>1</td>\n",
       "    </tr>\n",
       "    <tr>\n",
       "      <th>2</th>\n",
       "      <td>4.0</td>\n",
       "      <td>What I liked was the quality of the lens and the built in light.  Then lens had no discernable distortion anywhere.  It magnified everything evenly without the ripples and  distortion that I've seen with other low cost magnifiers.  This light is a nice touch and easy to use.  If you want it on just pull the lens out a bit.  It is focused very close to the center of what you will be look at and provides nice, even coverage.What I didn't like was the brightness (actually dimmness) of the light and where it is focused.  LEDs can be lots brighter, I know as I've seen them.  Also, the light focuses at the center of you field of view but only when the lens is too close to be focused properly.Bottom line is this is a good value for a magnifier and could have been made great with better quality control.BTW, I feel that honest, effective reviews can take the place of first-hand experiences that are lacking in online shopping. I've always appreciated the help I've received from other reviewers and work hard to return the favor as best as I can.  I hope you found this review helpful and if there was anything you thought was lacking or unclear leave a comment and I'll do what I can to fix it.</td>\n",
       "      <td>1</td>\n",
       "    </tr>\n",
       "    <tr>\n",
       "      <th>3</th>\n",
       "      <td>4.0</td>\n",
       "      <td>Love the Great point light pocket magnifier!  works great, especially if you forget your glasses and can't read the menu when you are out for dinner.... the light is a bonus in a dark restaurant, too.  I would have given 5 stars if it came with a case that covers the glass.  The clear plastic case it comes in is a little tacky and I'd be willing to pay a little more for a nice case to protec the lens.</td>\n",
       "      <td>1</td>\n",
       "    </tr>\n",
       "    <tr>\n",
       "      <th>4</th>\n",
       "      <td>5.0</td>\n",
       "      <td>This is very nice. You pull out on the magnifier when you want the light to come on, then slide it back in. I would recommend buying this if you need something with a light that you can easily put in your pocket or purse.</td>\n",
       "      <td>1</td>\n",
       "    </tr>\n",
       "  </tbody>\n",
       "</table>\n",
       "</div>"
      ],
      "text/plain": [
       "   overall  \\\n",
       "0  5.0       \n",
       "1  4.0       \n",
       "2  4.0       \n",
       "3  4.0       \n",
       "4  5.0       \n",
       "\n",
       "                                                                                                                                                                                                                                                                                                                                                                                                                                                                                                                                                                                                                                                                                                                                                                                                                                                                                                                                                                                                                                                                                                                                                                                                                                        reviewText  \\\n",
       "0  This is a great little gadget to have around.  We've already used it to look for splinters and a few other uses.  The light is great.  It's a handy size.  However, I do wish I'd bought one with a little higher magnification.                                                                                                                                                                                                                                                                                                                                                                                                                                                                                                                                                                                                                                                                                                                                                                                                                                                                                                                                                                                                                  \n",
       "1  I would recommend this for a travel magnifier for the occasional reading.I had read on another review about a magnifier having a problem with the light coming on. I did find that this one appeared to be DOA out of the box. But, after opening & shutting the viewer to turn on & off the light, the light began to come on. After several times of doing this, the light appears to be coming on all the time.It is small, but for taking it someplace & reading things like a menu in a dark corner of a restaurant, this is great.                                                                                                                                                                                                                                                                                                                                                                                                                                                                                                                                                                                                                                                                                                          \n",
       "2  What I liked was the quality of the lens and the built in light.  Then lens had no discernable distortion anywhere.  It magnified everything evenly without the ripples and  distortion that I've seen with other low cost magnifiers.  This light is a nice touch and easy to use.  If you want it on just pull the lens out a bit.  It is focused very close to the center of what you will be look at and provides nice, even coverage.What I didn't like was the brightness (actually dimmness) of the light and where it is focused.  LEDs can be lots brighter, I know as I've seen them.  Also, the light focuses at the center of you field of view but only when the lens is too close to be focused properly.Bottom line is this is a good value for a magnifier and could have been made great with better quality control.BTW, I feel that honest, effective reviews can take the place of first-hand experiences that are lacking in online shopping. I've always appreciated the help I've received from other reviewers and work hard to return the favor as best as I can.  I hope you found this review helpful and if there was anything you thought was lacking or unclear leave a comment and I'll do what I can to fix it.   \n",
       "3  Love the Great point light pocket magnifier!  works great, especially if you forget your glasses and can't read the menu when you are out for dinner.... the light is a bonus in a dark restaurant, too.  I would have given 5 stars if it came with a case that covers the glass.  The clear plastic case it comes in is a little tacky and I'd be willing to pay a little more for a nice case to protec the lens.                                                                                                                                                                                                                                                                                                                                                                                                                                                                                                                                                                                                                                                                                                                                                                                                                              \n",
       "4  This is very nice. You pull out on the magnifier when you want the light to come on, then slide it back in. I would recommend buying this if you need something with a light that you can easily put in your pocket or purse.                                                                                                                                                                                                                                                                                                                                                                                                                                                                                                                                                                                                                                                                                                                                                                                                                                                                                                                                                                                                                     \n",
       "\n",
       "   review_class  \n",
       "0  1             \n",
       "1  1             \n",
       "2  1             \n",
       "3  1             \n",
       "4  1             "
      ]
     },
     "execution_count": 3,
     "metadata": {},
     "output_type": "execute_result"
    }
   ],
   "source": [
    "df = df[['overall','reviewText']]\n",
    "df['review_class'] = [1 if x > 3 else 0 for x in df.overall]\n",
    "df.head(5)"
   ]
  },
  {
   "cell_type": "markdown",
   "metadata": {},
   "source": [
    "### Vectorization\n",
    "In order for this data to make sense to our machine learning algorithm, we’ll need to convert each customer feedback review to a numeric representation. \n",
    "\n",
    "In classification of machine learning, items are represented by their features. In our case, customer feedback reviews are represented by their words, so we will use words as features.\n",
    "\n",
    "#### Finding TFID\n",
    "\n",
    "TF-IDF, which stands for term frequency — inverse document frequency, is a scoring measure widely used in information retrieval (IR) or summarization. TF-IDF is intended to reflect how relevant a term is in a given document.\n",
    "\n",
    "#### Mathematical Calculation\n",
    "#### Term Frequency\n",
    "Term Frequency = (Number of occurrences of a word)/(Total words in the document)  \n",
    "#### Inverse Document Frequency \n",
    "IDF(word) = Log((Total number of documents)/(Number of documents containing the word))  \n",
    "\n",
    "\n",
    "Next steps, we need to divide our data into training and testing sets , 70% data is training and 30% is testing\n"
   ]
  },
  {
   "cell_type": "code",
   "execution_count": 7,
   "metadata": {},
   "outputs": [
    {
     "name": "stdout",
     "output_type": "stream",
     "text": [
      "x_train shape: (242448,)\n",
      "y_train shape: (242448,)\n",
      "\n",
      "x_test shape: (103907,)\n",
      "y_test shape: (103907,)\n",
      "\n"
     ]
    }
   ],
   "source": [
    "x_train, x_test, y_train, y_test = train_test_split(df.reviewText, df.review_class, test_size=0.3, random_state=0)\n",
    " \n",
    "print(\"x_train shape: {}\".format(x_train.shape), end='\\n')\n",
    "print(\"y_train shape: {}\".format(y_train.shape), end='\\n\\n')\n",
    "print(\"x_test shape: {}\".format(x_test.shape), end='\\n')\n",
    "print(\"y_test shape: {}\".format(y_test.shape), end='\\n\\n')\n",
    "\n",
    "\n",
    "# Convert a collection of raw documents to a matrix\n",
    "# vectorizer = TfidfVectorizer(decode_error='replace', encoding='utf-8')\n",
    "vectorizer = TfidfVectorizer(decode_error='replace', encoding='utf-8', sublinear_tf=True, max_features=10000, ngram_range=(1,3))\n",
    "# Learn vocabulary and idf from training set.\n",
    "vectorizer.fit(x_train.values.astype('U'))\n",
    "# Learn vocabulary and idf, return term-document matrix. \n",
    "# Uses the vocabulary and document frequencies (df) learned by fit.\n",
    "x_train_tv = vectorizer.transform(x_train.values.astype('U'))\n",
    "x_test_tv = vectorizer.transform(x_test.values.astype('U'))"
   ]
  },
  {
   "cell_type": "markdown",
   "metadata": {},
   "source": [
    "The most interesting parameter here is ngram_range - we're telling it to generate 2 and 3 word phrases along with the single words from the corpus.\n",
    "\n",
    "e.g. if we had the sentence \"Python is cool\" we'd end up with 6 phrases - 'Python', 'is', 'cool', 'Python is', 'Python is cool' and 'is cool'."
   ]
  },
  {
   "cell_type": "markdown",
   "metadata": {},
   "source": [
    "## Stage 4: Modeling\n",
    "\n",
    "### Building Classifier : Linear Regression with Scikit-Learn\n",
    "\n",
    "Now that we’ve transformed our dataset into a format suitable for modeling we can start building a classifier.\n",
    "Logistic Regression is a good baseline model for us to use for several reasons: \n",
    "* They’re easy to interpret,\n",
    "* linear models tend to perform well on sparse datasets \n",
    "* learn very fast compared to other algorithms.\n",
    "\n",
    "### Training & Testing\n",
    "We should train a model using the 70% training set and evaluate our accuracy on the records set"
   ]
  },
  {
   "cell_type": "code",
   "execution_count": 38,
   "metadata": {},
   "outputs": [],
   "source": [
    "# training algorithm \n",
    "model = LogisticRegression()\n",
    "# Fit the model according to the given training data.\n",
    "# Training vector, where n_samples is the number of samples and n_features is the number of features.\n",
    "model.fit(x_train_tv,y_train)\n",
    "# Predict class labels for samples in X.\n",
    "y_predict = model.predict(x_test_tv)"
   ]
  },
  {
   "cell_type": "markdown",
   "metadata": {},
   "source": [
    "## Stage 5 : Evaluation"
   ]
  },
  {
   "cell_type": "markdown",
   "metadata": {},
   "source": [
    "Evaluating machine learning algorithm is an essential part. \n",
    "\n",
    "This visual called The ROC curve is measure the true positive rate against the false positive rate at \n",
    "various threshold, and Area Under Curve, it is use for binary classification problem\n",
    "\n"
   ]
  },
  {
   "cell_type": "code",
   "execution_count": 40,
   "metadata": {},
   "outputs": [
    {
     "name": "stdout",
     "output_type": "stream",
     "text": [
      "AUC 0.9222848057167831\n",
      "Score 0.8900362824448786\n"
     ]
    },
    {
     "data": {
      "image/png": "[encoded data removed]",
      "text/plain": [
       "<Figure size 432x288 with 1 Axes>"
      ]
     },
     "metadata": {
      "needs_background": "light"
     },
     "output_type": "display_data"
    }
   ],
   "source": [
    "# Accuracy classification score\n",
    "cv_score = accuracy_score(y_test,y_predict)\n",
    "# predict probabilities\n",
    "probs = model.predict_proba(x_test_tv)\n",
    "probas = probs[:,1]\n",
    "# AUC report\n",
    "false_positive_rate, true_positive_rate, thresholds = roc_curve(y_test, probas)\n",
    "roc_auc = auc(false_positive_rate, true_positive_rate)\n",
    "print('AUC', roc_auc)\n",
    "print('Score', cv_score)\n",
    "\n",
    "plt.title('ROC(Receiver Operating Characteristic)')\n",
    "plt.plot(false_positive_rate, true_positive_rate, 'b', label = 'AUC = %0.2f' % roc_auc)\n",
    "plt.legend(loc = 'lower right')\n",
    "plt.plot([0, 1], [0, 1],'r--')\n",
    "plt.xlim([0, 1])\n",
    "plt.ylim([0, 1])\n",
    "plt.ylabel('True Positive Rate')\n",
    "plt.xlabel('False Positive Rate')\n",
    "plt.show()\n"
   ]
  },
  {
   "cell_type": "markdown",
   "metadata": {},
   "source": [
    "### Accuracy\n",
    "\n",
    "Classification Accuracy is what we usually mean, when we use the term accuracy. It is the ratio of number of correct predictions to the total number of input samples.\n",
    "\n",
    "**Accuracy = No.of correct predictions / Total no.of predictions made**\n",
    "\n",
    "Mathematically,  accuracy = (tp + tn) / (tp + tn + fp + fn)\n",
    "\n",
    "* True Positives(tp) : The cases in which we predicted YES and the actual output was also YES.\n",
    "* True Negatives(tn) : The cases in which we predicted NO and the actual output was YES.\n",
    "* False Positives(fp) : The cases in which we predicted YES and the actual output was NO.\n",
    "* False Negatives(fn) : The cases in which we predicted NO and the actual output was also NO."
   ]
  },
  {
   "cell_type": "code",
   "execution_count": 41,
   "metadata": {},
   "outputs": [
    {
     "name": "stdout",
     "output_type": "stream",
     "text": [
      "Accuracy score: 0.8900362824448786\n"
     ]
    },
    {
     "data": {
      "image/png": "[encoded data removed]",
      "text/plain": [
       "<Figure size 1080x576 with 1 Axes>"
      ]
     },
     "metadata": {
      "needs_background": "light"
     },
     "output_type": "display_data"
    }
   ],
   "source": [
    "# Plotting the graph\n",
    "results = {'Model':['LogisticRegression'],\n",
    "           'TfidfVectorizer':[cv_score]\n",
    "         }\n",
    " \n",
    "    \n",
    "results_df = pd.DataFrame(results)\n",
    "results_df.plot.bar(ylim=(0.60,1.0), figsize=(15,8), align='center', colormap=\"Oranges_r\")\n",
    "plt.xticks(np.arange(5), results_df.Model)\n",
    "\n",
    "# printing the out of the score\n",
    "print('Accuracy score:', cv_score) "
   ]
  },
  {
   "cell_type": "markdown",
   "metadata": {},
   "source": [
    "### Reporting\n",
    "\n",
    "#### Confusion Matrix\n",
    "A confusion matrix is a table that is often used to describe the performance of a classification model (or \"classifier\")\n",
    "with two rows and two columns that report the number of **false positive** and **false negative**\n",
    "\n",
    "Each row of the Matrix represents the instances in a predicted class while each column represents the instances in an actual class"
   ]
  },
  {
   "cell_type": "code",
   "execution_count": 42,
   "metadata": {},
   "outputs": [
    {
     "data": {
      "text/plain": [
       "<matplotlib.axes._subplots.AxesSubplot at 0x1a5ceca908>"
      ]
     },
     "execution_count": 42,
     "metadata": {},
     "output_type": "execute_result"
    },
    {
     "data": {
      "image/png": "[encoded data removed]",
      "text/plain": [
       "<Figure size 432x288 with 2 Axes>"
      ]
     },
     "metadata": {
      "needs_background": "light"
     },
     "output_type": "display_data"
    }
   ],
   "source": [
    "cm = confusion_matrix(y_test, y_predict)\n",
    "df_cm = pd.DataFrame(cm, ['Positive', 'Negative'], ['Positive', 'Negative'])\n",
    "sns.heatmap(df_cm, annot=True, annot_kws={'size':16}, fmt='g', cmap=\"YlGnBu\")"
   ]
  },
  {
   "cell_type": "markdown",
   "metadata": {},
   "source": [
    "#### Classification Report\n",
    "\n",
    "The precision is the ratio tp / (tp + fp) where tp is the number of true positives and fp the number of false positives. The precision is intuitively the ability of the classifier not to label as positive a sample that is negative.\n",
    "\n",
    "The recall is the ratio tp / (tp + fn) where tp is the number of true positives and fn the number of false negatives. The recall is intuitively the ability of the classifier to find all the positive samples.\n",
    "\n",
    "The F-beta score can be interpreted as a weighted harmonic mean of the precision and recall, where an F-beta score reaches its best value at 1 and worst score at 0.\n",
    "\n",
    "The F-beta score weights recall more than precision by a factor of beta. beta == 1.0 means recall and precision are equally important."
   ]
  },
  {
   "cell_type": "code",
   "execution_count": 43,
   "metadata": {},
   "outputs": [
    {
     "name": "stdout",
     "output_type": "stream",
     "text": [
      "              precision    recall  f1-score   support\n",
      "\n",
      "          0       0.79      0.58      0.67     19913\n",
      "          1       0.91      0.96      0.93     83994\n",
      "\n",
      "avg / total       0.88      0.89      0.88    103907\n",
      "\n"
     ]
    },
    {
     "data": {
      "image/png": "[encoded data removed]",
      "text/plain": [
       "<Figure size 720x720 with 1 Axes>"
      ]
     },
     "metadata": {
      "needs_background": "light"
     },
     "output_type": "display_data"
    }
   ],
   "source": [
    "def plot_classification_report(y_tru, y_prd, figsize=(10, 10), ax=None):\n",
    "\n",
    "    plt.figure(figsize=figsize)\n",
    "\n",
    "    xticks = ['precision', 'recall', 'f1-score', 'support']\n",
    "    yticks = list(np.unique(y_tru))\n",
    "    yticks += ['avg']\n",
    "\n",
    "    rep = np.array(precision_recall_fscore_support(y_tru, y_prd)).T\n",
    "    avg = np.mean(rep, axis=0)\n",
    "    avg[-1] = np.sum(rep[:, -1])\n",
    "    rep = np.insert(rep, rep.shape[0], avg, axis=0)\n",
    "\n",
    "    sns.heatmap(rep,\n",
    "                annot=True, \n",
    "                cbar=False, \n",
    "                xticklabels=xticks, \n",
    "                yticklabels=yticks,\n",
    "                ax=ax,\n",
    "               cmap=sns.diverging_palette(760, 153, l=70, n=7, center=\"dark\"))\n",
    "    \n",
    "print('', classification_report(y_test, y_predict))\n",
    "plot_classification_report(y_test, y_predict)\n"
   ]
  },
  {
   "cell_type": "markdown",
   "metadata": {},
   "source": [
    "### Unit Testing\n",
    "Unit Testing is a good approach to test your model, the data we have prepared for our unit testing, where our model has not shown these data before. I have taken 100 records to unit test our model."
   ]
  },
  {
   "cell_type": "code",
   "execution_count": 44,
   "metadata": {},
   "outputs": [
    {
     "data": {
      "text/html": [
       "<div>\n",
       "<style scoped>\n",
       "    .dataframe tbody tr th:only-of-type {\n",
       "        vertical-align: middle;\n",
       "    }\n",
       "\n",
       "    .dataframe tbody tr th {\n",
       "        vertical-align: top;\n",
       "    }\n",
       "\n",
       "    .dataframe thead th {\n",
       "        text-align: right;\n",
       "    }\n",
       "</style>\n",
       "<table border=\"1\" class=\"dataframe\">\n",
       "  <thead>\n",
       "    <tr style=\"text-align: right;\">\n",
       "      <th></th>\n",
       "      <th>Unnamed: 0</th>\n",
       "      <th>Unnamed: 0.1</th>\n",
       "      <th>asin</th>\n",
       "      <th>helpful</th>\n",
       "      <th>overall</th>\n",
       "      <th>reviewText</th>\n",
       "      <th>reviewTime</th>\n",
       "      <th>reviewerID</th>\n",
       "      <th>reviewerName</th>\n",
       "      <th>summary</th>\n",
       "      <th>unixReviewTime</th>\n",
       "    </tr>\n",
       "  </thead>\n",
       "  <tbody>\n",
       "    <tr>\n",
       "      <th>98</th>\n",
       "      <td>98</td>\n",
       "      <td>2982324</td>\n",
       "      <td>B00LWTTO0A</td>\n",
       "      <td>[0, 0]</td>\n",
       "      <td>5.0</td>\n",
       "      <td>Good quality clay, saves me salon visits to treat my skin!Just need a little bit of patience, but I like the product, will reorder.</td>\n",
       "      <td>07 18, 2014</td>\n",
       "      <td>A215W0EOUNL81C</td>\n",
       "      <td>Tina S.</td>\n",
       "      <td>Good quality clay</td>\n",
       "      <td>1405641600</td>\n",
       "    </tr>\n",
       "    <tr>\n",
       "      <th>99</th>\n",
       "      <td>99</td>\n",
       "      <td>2982325</td>\n",
       "      <td>B00LYPUPZK</td>\n",
       "      <td>[0, 0]</td>\n",
       "      <td>1.0</td>\n",
       "      <td>Fake!</td>\n",
       "      <td>07 21, 2014</td>\n",
       "      <td>A2ZFFXGLJUHD76</td>\n",
       "      <td>Dan Bernstein</td>\n",
       "      <td>One Star</td>\n",
       "      <td>1405900800</td>\n",
       "    </tr>\n",
       "  </tbody>\n",
       "</table>\n",
       "</div>"
      ],
      "text/plain": [
       "    Unnamed: 0  Unnamed: 0.1        asin helpful  overall  \\\n",
       "98  98          2982324       B00LWTTO0A  [0, 0]  5.0       \n",
       "99  99          2982325       B00LYPUPZK  [0, 0]  1.0       \n",
       "\n",
       "                                                                                                                             reviewText  \\\n",
       "98  Good quality clay, saves me salon visits to treat my skin!Just need a little bit of patience, but I like the product, will reorder.   \n",
       "99  Fake!                                                                                                                                 \n",
       "\n",
       "     reviewTime      reviewerID   reviewerName            summary  \\\n",
       "98  07 18, 2014  A215W0EOUNL81C  Tina S.        Good quality clay   \n",
       "99  07 21, 2014  A2ZFFXGLJUHD76  Dan Bernstein  One Star            \n",
       "\n",
       "    unixReviewTime  \n",
       "98  1405641600      \n",
       "99  1405900800      "
      ]
     },
     "execution_count": 44,
     "metadata": {},
     "output_type": "execute_result"
    }
   ],
   "source": [
    "# read text data from file\n",
    "df = pd.read_csv(\"test-data-filtered.csv\")\n",
    "df.tail(2)"
   ]
  },
  {
   "cell_type": "markdown",
   "metadata": {},
   "source": [
    "## Stage 6: Deployment\n",
    "The last process of the entire framework is the deployment. \n",
    "We have trained our model and achieved very good accuracy score ~89% which is quite number."
   ]
  },
  {
   "cell_type": "code",
   "execution_count": 154,
   "metadata": {},
   "outputs": [
    {
     "data": {
      "text/plain": [
       "['classical-model-nongram.joblib']"
      ]
     },
     "execution_count": 154,
     "metadata": {},
     "output_type": "execute_result"
    }
   ],
   "source": [
    "joblib.dump(vectorizer, 'classical-vectorizer.joblib') \n",
    "joblib.dump(model,'classical-model.joblib')"
   ]
  },
  {
   "cell_type": "code",
   "execution_count": 22,
   "metadata": {},
   "outputs": [
    {
     "data": {
      "text/plain": [
       "array([1], dtype=int64)"
      ]
     },
     "execution_count": 22,
     "metadata": {},
     "output_type": "execute_result"
    }
   ],
   "source": [
    "newVector = joblib.load('classfical-vectorizer.joblib') \n",
    "newModel = joblib.load('classical-model.joblib') \n"
   ]
  },
  {
   "cell_type": "code",
   "execution_count": 28,
   "metadata": {},
   "outputs": [
    {
     "name": "stdout",
     "output_type": "stream",
     "text": [
      "Your feedback is Negative\n"
     ]
    }
   ],
   "source": [
    "# transformed \n",
    "mytext = 'Worst product I have seen ever'\n",
    "myVectortest = newVector.transform([mytext])\n",
    "joblibPrectict = newModel.predict(myVectortest)\n",
    "\n",
    "for index, feedback in enumerate(joblibPrectict):\n",
    "    if(feedback == 1):\n",
    "        print(\"Your feedback is Positive\")\n",
    "    else:\n",
    "        print(\"Your feedback is Negative\")"
   ]
  },
  {
   "cell_type": "code",
   "execution_count": null,
   "metadata": {},
   "outputs": [],
   "source": []
  }
 ],
 "metadata": {
  "kernelspec": {
   "display_name": "Python 3",
   "language": "python",
   "name": "python3"
  },
  "language_info": {
   "codemirror_mode": {
    "name": "ipython",
    "version": 3
   },
   "file_extension": ".py",
   "mimetype": "text/x-python",
   "name": "python",
   "nbconvert_exporter": "python",
   "pygments_lexer": "ipython3",
   "version": "3.7.0"
  }
 },
 "nbformat": 4,
 "nbformat_minor": 2
}
