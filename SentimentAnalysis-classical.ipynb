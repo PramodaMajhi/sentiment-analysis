{
 "cells": [
  {
   "cell_type": "markdown",
   "metadata": {},
   "source": [
    "# Stage 1: Business Understanding"
   ]
  },
  {
   "cell_type": "markdown",
   "metadata": {},
   "source": [
    "Business use case is about building a predictive model that can predict the positive or negative sentiment for customer based on their feedback"
   ]
  },
  {
   "cell_type": "code",
   "execution_count": 1,
   "metadata": {},
   "outputs": [],
   "source": [
    "import pandas as pd\n",
    "from sklearn.model_selection import train_test_split\n",
    "from sklearn.feature_extraction.text import TfidfVectorizer\n",
    "from sklearn.linear_model import LogisticRegression\n",
    "from sklearn.metrics import accuracy_score\n",
    "from sklearn.metrics import confusion_matrix\n",
    "from sklearn.metrics import precision_recall_fscore_support\n",
    "from sklearn.metrics import classification_report\n",
    "from sklearn.metrics import roc_curve, auc, roc_auc_score\n",
    "from sklearn.feature_extraction.text import CountVectorizer\n",
    "from sklearn import svm\n",
    "from sklearn.svm import LinearSVC\n",
    "from sklearn.naive_bayes import GaussianNB\n",
    "from sklearn import tree\n",
    "from sklearn.ensemble import RandomForestClassifier\n",
    "from sklearn.ensemble import GradientBoostingClassifier\n",
    "import numpy as np\n",
    "import matplotlib.pyplot as plt\n",
    "import seaborn as sns\n",
    "from sklearn.externals import joblib\n"
   ]
  },
  {
   "cell_type": "markdown",
   "metadata": {},
   "source": [
    "# Stage 2:  Data Understanding\n",
    "The dataset that we are going to use for this \"Amazon\" product review. The dataset consits of of total #346355 the documents contain positive and negative reviews regarding the product. further details regarding dataset can be found to be at http://snap.stanford.edu/data/amazon/productGraph/categoryFiles/reviews_Health_and_Personal_Care.json.gz  \n"
   ]
  },
  {
   "cell_type": "code",
   "execution_count": 2,
   "metadata": {},
   "outputs": [
    {
     "data": {
      "text/plain": [
       "(346355, 10)"
      ]
     },
     "execution_count": 2,
     "metadata": {},
     "output_type": "execute_result"
    }
   ],
   "source": [
    "# df = pd.read_csv(\"Output.csv\", sep='\\t', error_bad_lines= False, nrows=1000) # testing for purpose only\n",
    "df = pd.read_csv(\"Output.csv\", sep='\\t', error_bad_lines= False)\n",
    "df.shape"
   ]
  },
  {
   "cell_type": "markdown",
   "metadata": {},
   "source": [
    "# Stage 3: Data Preparation\n",
    "\n",
    "Making an additional column to decide \"Positive or Nagative\" review based ob the score"
   ]
  },
  {
   "cell_type": "code",
   "execution_count": 3,
   "metadata": {
    "scrolled": false
   },
   "outputs": [
    {
     "data": {
      "text/html": [
       "<div>\n",
       "<style scoped>\n",
       "    .dataframe tbody tr th:only-of-type {\n",
       "        vertical-align: middle;\n",
       "    }\n",
       "\n",
       "    .dataframe tbody tr th {\n",
       "        vertical-align: top;\n",
       "    }\n",
       "\n",
       "    .dataframe thead th {\n",
       "        text-align: right;\n",
       "    }\n",
       "</style>\n",
       "<table border=\"1\" class=\"dataframe\">\n",
       "  <thead>\n",
       "    <tr style=\"text-align: right;\">\n",
       "      <th></th>\n",
       "      <th>Unnamed: 0</th>\n",
       "      <th>asin</th>\n",
       "      <th>helpful</th>\n",
       "      <th>overall</th>\n",
       "      <th>reviewText</th>\n",
       "      <th>reviewTime</th>\n",
       "      <th>reviewerID</th>\n",
       "      <th>reviewerName</th>\n",
       "      <th>summary</th>\n",
       "      <th>unixReviewTime</th>\n",
       "      <th>review_class</th>\n",
       "    </tr>\n",
       "  </thead>\n",
       "  <tbody>\n",
       "    <tr>\n",
       "      <th>0</th>\n",
       "      <td>0</td>\n",
       "      <td>159985130X</td>\n",
       "      <td>[1, 1]</td>\n",
       "      <td>5.0</td>\n",
       "      <td>This is a great little gadget to have around. ...</td>\n",
       "      <td>01 5, 2011</td>\n",
       "      <td>ALC5GH8CAMAI7</td>\n",
       "      <td>AnnN</td>\n",
       "      <td>Handy little gadget</td>\n",
       "      <td>1294185600</td>\n",
       "      <td>1</td>\n",
       "    </tr>\n",
       "    <tr>\n",
       "      <th>1</th>\n",
       "      <td>1</td>\n",
       "      <td>159985130X</td>\n",
       "      <td>[1, 1]</td>\n",
       "      <td>4.0</td>\n",
       "      <td>I would recommend this for a travel magnifier ...</td>\n",
       "      <td>02 18, 2012</td>\n",
       "      <td>AHKSURW85PJUE</td>\n",
       "      <td>AZ buyer \"AZ buyer\"</td>\n",
       "      <td>Small &amp; may need to encourage battery</td>\n",
       "      <td>1329523200</td>\n",
       "      <td>1</td>\n",
       "    </tr>\n",
       "  </tbody>\n",
       "</table>\n",
       "</div>"
      ],
      "text/plain": [
       "   Unnamed: 0        asin helpful  overall  \\\n",
       "0           0  159985130X  [1, 1]      5.0   \n",
       "1           1  159985130X  [1, 1]      4.0   \n",
       "\n",
       "                                          reviewText   reviewTime  \\\n",
       "0  This is a great little gadget to have around. ...   01 5, 2011   \n",
       "1  I would recommend this for a travel magnifier ...  02 18, 2012   \n",
       "\n",
       "      reviewerID         reviewerName                                summary  \\\n",
       "0  ALC5GH8CAMAI7                 AnnN                    Handy little gadget   \n",
       "1  AHKSURW85PJUE  AZ buyer \"AZ buyer\"  Small & may need to encourage battery   \n",
       "\n",
       "   unixReviewTime  review_class  \n",
       "0      1294185600             1  \n",
       "1      1329523200             1  "
      ]
     },
     "execution_count": 3,
     "metadata": {},
     "output_type": "execute_result"
    }
   ],
   "source": [
    "df['review_class'] = [1 if x > 3 else 0 for x in df.overall]\n",
    "df.head(2)"
   ]
  },
  {
   "cell_type": "markdown",
   "metadata": {},
   "source": [
    "### Training and Testing Sets \n",
    "Like any other supervised machine learning problems, we need to divide out data into training and testing sets, to do so we used the train_test_split utility from the sklearn.model_selection library\n",
    "\n",
    "### Finding TFID\n",
    "\n",
    "Mulitplying the term frequency of a word by the inverse document frequency. The TF stands for \"Term frequency\" while IDF stand for \"Inverse Document Frequency\" The ft-idf value increases proportionally to the number of documents in word appears in the document.\n",
    "\n",
    "The term frequency is calculated as:\n",
    "\n",
    "Term frequency = (Number of Occurrences of a word)/(Total words in the document)  \n",
    "\n",
    "And the Inverse Document Frequency is calculated as:\n",
    "\n",
    "IDF(word) = Log((Total number of documents)/(Number of documents containing the word))  \n",
    "\n",
    "\n",
    "### Training Text Classification Model and Predicting Sentiment\n",
    "\n",
    "We have divided our data into training and testing set. Now is the time to see real actio, we will use logisticRegression  from sklearn. The fit method of this class used to train the algorithm. we need to pass trainign and training target sets tho this method.\n",
    "Finally, to predict the sentiment for the documents in our text set we can use predict()"
   ]
  },
  {
   "cell_type": "code",
   "execution_count": 4,
   "metadata": {},
   "outputs": [
    {
     "name": "stdout",
     "output_type": "stream",
     "text": [
      "x_train shape: (242448,)\n",
      "y_train shape: (242448,)\n",
      "\n",
      "x_test shape: (103907,)\n",
      "y_test shape: (103907,)\n",
      "\n"
     ]
    }
   ],
   "source": [
    "x_train, x_test, y_train, y_test = train_test_split(df.reviewText, df.review_class, test_size=0.3, random_state=0)\n",
    " \n",
    "print(\"x_train shape: {}\".format(x_train.shape), end='\\n')\n",
    "print(\"y_train shape: {}\".format(y_train.shape), end='\\n\\n')\n",
    "print(\"x_test shape: {}\".format(x_test.shape), end='\\n')\n",
    "print(\"y_test shape: {}\".format(y_test.shape), end='\\n\\n')\n",
    "\n",
    "\n",
    "# Convert a collection of raw documents to a matrix\n",
    "vectorizer = TfidfVectorizer(decode_error='replace', encoding='utf-8')\n",
    "# Learn vocabulary and idf from training set.\n",
    "vectorizer.fit(x_train.values.astype('U'))\n",
    "# Learn vocabulary and idf, return term-document matrix. \n",
    "# Uses the vocabulary and document frequencies (df) learned by fit.\n",
    "x_train_tv = vectorizer.transform(x_train.values.astype('U'))\n",
    "x_test_tv = vectorizer.transform(x_test.values.astype('U'))"
   ]
  },
  {
   "cell_type": "markdown",
   "metadata": {},
   "source": [
    "# Stage 4: Modeling\n"
   ]
  },
  {
   "cell_type": "code",
   "execution_count": 5,
   "metadata": {},
   "outputs": [
    {
     "name": "stderr",
     "output_type": "stream",
     "text": [
      "C:\\Users\\pmajhi01\\anaconda3\\envs\\BscProject\\lib\\site-packages\\sklearn\\linear_model\\logistic.py:432: FutureWarning: Default solver will be changed to 'lbfgs' in 0.22. Specify a solver to silence this warning.\n",
      "  FutureWarning)\n"
     ]
    }
   ],
   "source": [
    "# training algorithm \n",
    "# model = GaussianNB()\n",
    "model = LogisticRegression()\n",
    "# model = svm.SVC()\n",
    "# model = svm.SVC(kernel='linear')\n",
    "# model = LinearSVC() # 0.87\n",
    "# model = tree.DecisionTreeClassifier()\n",
    "# model = RandomForestClassifier() # 0.82\n",
    "# model = GradientBoostingClassifier() # 0.83\n",
    "# Fit the model according to the given training data.\n",
    "# Training vector, where n_samples is the number of samples and n_features is the number of features.\n",
    "model.fit(x_train_tv,y_train)\n",
    "# Predict class labels for samples in X.\n",
    "y_predict = model.predict(x_test_tv)\n",
    "\n"
   ]
  },
  {
   "cell_type": "markdown",
   "metadata": {},
   "source": [
    "# Stage 5 : Evalauation"
   ]
  },
  {
   "cell_type": "markdown",
   "metadata": {},
   "source": [
    "### Accuracy\n",
    "\n",
    "Classification Accuracy is what we usually mean, when we use the term accuracy. It is the ratio of number of correct predictions to the total number of input samples.\n",
    "\n",
    "**Accuracy = No.of correct predictions / Total no.of predictions made**\n",
    "\n",
    "Mathematically,  accuracy = (tp + tn) / (tp + tn + fp + fn)\n",
    "\n",
    "* True Positives(tp) : The cases in which we predicted YES and the actual output was also YES.\n",
    "* True Negatives(tn) : The cases in which we predicted NO and the actual output was YES.\n",
    "* False Positives(fp) : The cases in which we predicted YES and the actual output was NO.\n",
    "* False Negatives(fn) : The cases in which we predicted NO and the actual output was also NO.\n"
   ]
  },
  {
   "cell_type": "markdown",
   "metadata": {},
   "source": [
    "The ROC curve is created by plotting the true positive rate (TPR) against the false positive rate (FPR) at various threshold settings"
   ]
  },
  {
   "cell_type": "code",
   "execution_count": 6,
   "metadata": {},
   "outputs": [
    {
     "name": "stdout",
     "output_type": "stream",
     "text": [
      "AUC 0.7349902269290062\n"
     ]
    },
    {
     "data": {
      "image/png": "[encoded data removed]",
      "text/plain": [
       "<Figure size 432x288 with 1 Axes>"
      ]
     },
     "metadata": {
      "needs_background": "light"
     },
     "output_type": "display_data"
    }
   ],
   "source": [
    "\n",
    "# Accuracy classification score\n",
    "cv_score = accuracy_score(y_test,y_predict)\n",
    "\n",
    "# AUC report\n",
    "false_positive_rate, true_positive_rate, thresholds = roc_curve(y_test, model.predict(x_test_tv))\n",
    "roc_auc = auc(false_positive_rate, true_positive_rate)\n",
    "print('AUC', roc_auc)\n",
    "\n",
    "plt.title('Receiver Operating Characteristic')\n",
    "plt.plot(false_positive_rate, true_positive_rate, 'b', label = 'AUC = %0.2f' % roc_auc)\n",
    "plt.legend(loc = 'lower right')\n",
    "plt.plot([0, 1], [0, 1],'r--')\n",
    "plt.xlim([0, 1])\n",
    "plt.ylim([0, 1])\n",
    "plt.ylabel('True Positive Rate')\n",
    "plt.xlabel('False Positive Rate')\n",
    "plt.show()\n"
   ]
  },
  {
   "cell_type": "markdown",
   "metadata": {},
   "source": [
    "### Plotting the Accuracy Graph\n",
    "\n",
    "We used sklearn library to plot score graph against the algorithm\n"
   ]
  },
  {
   "cell_type": "code",
   "execution_count": 7,
   "metadata": {},
   "outputs": [
    {
     "name": "stdout",
     "output_type": "stream",
     "text": [
      "Accuracy score: 0.8740123379560568\n"
     ]
    },
    {
     "data": {
      "image/png": "[encoded data removed]",
      "text/plain": [
       "<Figure size 1080x576 with 1 Axes>"
      ]
     },
     "metadata": {
      "needs_background": "light"
     },
     "output_type": "display_data"
    }
   ],
   "source": [
    "# Plotting the graph\n",
    "results = {'Model':['LogisticRegression'],\n",
    "           'TfidfVectorizer':[cv_score]\n",
    "         }\n",
    " \n",
    "    \n",
    "results_df = pd.DataFrame(results)\n",
    "results_df.plot.bar(ylim=(0.60,1.0), figsize=(15,8), align='center', colormap=\"Oranges_r\")\n",
    "plt.xticks(np.arange(5), results_df.Model)\n",
    "\n",
    "# printing the out of the score\n",
    "print('Accuracy score:', cv_score) "
   ]
  },
  {
   "cell_type": "markdown",
   "metadata": {},
   "source": [
    "### Reporting\n",
    "\n",
    "#### Confusion Matrix\n",
    "A confusion matrix is a table that is often used to describe the performance of a classification model (or \"classifier\")\n",
    "with two rows and two columns that report the number of **false positive** and **false negative**\n",
    "\n",
    "Each row of the Matrix represents the instances in a predicted class while each column represents the instances in an actual class"
   ]
  },
  {
   "cell_type": "code",
   "execution_count": 8,
   "metadata": {},
   "outputs": [
    {
     "name": "stdout",
     "output_type": "stream",
     "text": [
      " [[10147  9766]\n",
      " [ 3325 80669]]\n"
     ]
    },
    {
     "data": {
      "text/plain": [
       "<matplotlib.axes._subplots.AxesSubplot at 0x2ded40b8>"
      ]
     },
     "execution_count": 8,
     "metadata": {},
     "output_type": "execute_result"
    },
    {
     "data": {
      "image/png": "[encoded data removed]",
      "text/plain": [
       "<Figure size 432x288 with 2 Axes>"
      ]
     },
     "metadata": {
      "needs_background": "light"
     },
     "output_type": "display_data"
    }
   ],
   "source": [
    "cm = confusion_matrix(y_test, y_predict)\n",
    "print('',cm)\n",
    "df_cm = pd.DataFrame(cm, ['Positive', 'Negative'], ['Positive', 'Negative'])\n",
    "sns.heatmap(df_cm, annot=True, annot_kws={'size':16}, fmt='g', cmap=\"YlGnBu\")"
   ]
  },
  {
   "cell_type": "markdown",
   "metadata": {},
   "source": [
    "#### Classification Report\n",
    "\n",
    "The precision is the ratio tp / (tp + fp) where tp is the number of true positives and fp the number of false positives. The precision is intuitively the ability of the classifier not to label as positive a sample that is negative.\n",
    "\n",
    "The recall is the ratio tp / (tp + fn) where tp is the number of true positives and fn the number of false negatives. The recall is intuitively the ability of the classifier to find all the positive samples.\n",
    "\n",
    "The F-beta score can be interpreted as a weighted harmonic mean of the precision and recall, where an F-beta score reaches its best value at 1 and worst score at 0.\n",
    "\n",
    "The F-beta score weights recall more than precision by a factor of beta. beta == 1.0 means recall and precision are equally important."
   ]
  },
  {
   "cell_type": "code",
   "execution_count": 9,
   "metadata": {},
   "outputs": [
    {
     "name": "stdout",
     "output_type": "stream",
     "text": [
      "               precision    recall  f1-score   support\n",
      "\n",
      "           0       0.75      0.51      0.61     19913\n",
      "           1       0.89      0.96      0.92     83994\n",
      "\n",
      "   micro avg       0.87      0.87      0.87    103907\n",
      "   macro avg       0.82      0.73      0.77    103907\n",
      "weighted avg       0.87      0.87      0.86    103907\n",
      "\n"
     ]
    },
    {
     "data": {
      "image/png": "[encoded data removed]",
      "text/plain": [
       "<Figure size 720x720 with 1 Axes>"
      ]
     },
     "metadata": {
      "needs_background": "light"
     },
     "output_type": "display_data"
    }
   ],
   "source": [
    "def plot_classification_report(y_tru, y_prd, figsize=(10, 10), ax=None):\n",
    "\n",
    "    plt.figure(figsize=figsize)\n",
    "\n",
    "    xticks = ['precision', 'recall', 'f1-score', 'support']\n",
    "    yticks = list(np.unique(y_tru))\n",
    "    yticks += ['avg']\n",
    "\n",
    "    rep = np.array(precision_recall_fscore_support(y_tru, y_prd)).T\n",
    "    avg = np.mean(rep, axis=0)\n",
    "    avg[-1] = np.sum(rep[:, -1])\n",
    "    rep = np.insert(rep, rep.shape[0], avg, axis=0)\n",
    "\n",
    "    sns.heatmap(rep,\n",
    "                annot=True, \n",
    "                cbar=False, \n",
    "                xticklabels=xticks, \n",
    "                yticklabels=yticks,\n",
    "                ax=ax,\n",
    "               cmap=sns.diverging_palette(760, 153, l=70, n=7, center=\"dark\"))\n",
    "    \n",
    "print('', classification_report(y_test, y_predict))\n",
    "plot_classification_report(y_test, y_predict)\n"
   ]
  },
  {
   "cell_type": "markdown",
   "metadata": {},
   "source": [
    "Now we will actually train model. RNN's like CNN's, are very resource heavy. Keepi g the batch size relatively small is the key enabling this run on your PC at all. In the real word of course. you'd be taking advantange of GPU's installed across many computers on cluster to make this scale a lot better."
   ]
  },
  {
   "cell_type": "markdown",
   "metadata": {},
   "source": [
    "#### Model 2"
   ]
  },
  {
   "cell_type": "markdown",
   "metadata": {},
   "source": [
    "Refer Separate file"
   ]
  },
  {
   "cell_type": "markdown",
   "metadata": {},
   "source": [
    "### Testing"
   ]
  },
  {
   "cell_type": "code",
   "execution_count": 18,
   "metadata": {},
   "outputs": [
    {
     "ename": "FileNotFoundError",
     "evalue": "File b'test-data-filtered.csv' does not exist",
     "output_type": "error",
     "traceback": [
      "\u001b[1;31m---------------------------------------------------------------------------\u001b[0m",
      "\u001b[1;31mFileNotFoundError\u001b[0m                         Traceback (most recent call last)",
      "\u001b[1;32m<ipython-input-18-88ad0a8c7702>\u001b[0m in \u001b[0;36m<module>\u001b[1;34m\u001b[0m\n\u001b[0;32m      1\u001b[0m \u001b[1;31m# read text data from file\u001b[0m\u001b[1;33m\u001b[0m\u001b[1;33m\u001b[0m\u001b[0m\n\u001b[1;32m----> 2\u001b[1;33m \u001b[0mdf\u001b[0m \u001b[1;33m=\u001b[0m \u001b[0mpd\u001b[0m\u001b[1;33m.\u001b[0m\u001b[0mread_csv\u001b[0m\u001b[1;33m(\u001b[0m\u001b[1;34m\"test-data-filtered.csv\"\u001b[0m\u001b[1;33m)\u001b[0m\u001b[1;33m\u001b[0m\u001b[0m\n\u001b[0m\u001b[0;32m      3\u001b[0m \u001b[0mdf\u001b[0m\u001b[1;33m.\u001b[0m\u001b[0mhead\u001b[0m\u001b[1;33m(\u001b[0m\u001b[1;36m30\u001b[0m\u001b[1;33m)\u001b[0m\u001b[1;33m\u001b[0m\u001b[0m\n",
      "\u001b[1;32m~\\anaconda3\\envs\\BscProject\\lib\\site-packages\\pandas\\io\\parsers.py\u001b[0m in \u001b[0;36mparser_f\u001b[1;34m(filepath_or_buffer, sep, delimiter, header, names, index_col, usecols, squeeze, prefix, mangle_dupe_cols, dtype, engine, converters, true_values, false_values, skipinitialspace, skiprows, nrows, na_values, keep_default_na, na_filter, verbose, skip_blank_lines, parse_dates, infer_datetime_format, keep_date_col, date_parser, dayfirst, iterator, chunksize, compression, thousands, decimal, lineterminator, quotechar, quoting, escapechar, comment, encoding, dialect, tupleize_cols, error_bad_lines, warn_bad_lines, skipfooter, doublequote, delim_whitespace, low_memory, memory_map, float_precision)\u001b[0m\n\u001b[0;32m    676\u001b[0m                     skip_blank_lines=skip_blank_lines)\n\u001b[0;32m    677\u001b[0m \u001b[1;33m\u001b[0m\u001b[0m\n\u001b[1;32m--> 678\u001b[1;33m         \u001b[1;32mreturn\u001b[0m \u001b[0m_read\u001b[0m\u001b[1;33m(\u001b[0m\u001b[0mfilepath_or_buffer\u001b[0m\u001b[1;33m,\u001b[0m \u001b[0mkwds\u001b[0m\u001b[1;33m)\u001b[0m\u001b[1;33m\u001b[0m\u001b[0m\n\u001b[0m\u001b[0;32m    679\u001b[0m \u001b[1;33m\u001b[0m\u001b[0m\n\u001b[0;32m    680\u001b[0m     \u001b[0mparser_f\u001b[0m\u001b[1;33m.\u001b[0m\u001b[0m__name__\u001b[0m \u001b[1;33m=\u001b[0m \u001b[0mname\u001b[0m\u001b[1;33m\u001b[0m\u001b[0m\n",
      "\u001b[1;32m~\\anaconda3\\envs\\BscProject\\lib\\site-packages\\pandas\\io\\parsers.py\u001b[0m in \u001b[0;36m_read\u001b[1;34m(filepath_or_buffer, kwds)\u001b[0m\n\u001b[0;32m    438\u001b[0m \u001b[1;33m\u001b[0m\u001b[0m\n\u001b[0;32m    439\u001b[0m     \u001b[1;31m# Create the parser.\u001b[0m\u001b[1;33m\u001b[0m\u001b[1;33m\u001b[0m\u001b[0m\n\u001b[1;32m--> 440\u001b[1;33m     \u001b[0mparser\u001b[0m \u001b[1;33m=\u001b[0m \u001b[0mTextFileReader\u001b[0m\u001b[1;33m(\u001b[0m\u001b[0mfilepath_or_buffer\u001b[0m\u001b[1;33m,\u001b[0m \u001b[1;33m**\u001b[0m\u001b[0mkwds\u001b[0m\u001b[1;33m)\u001b[0m\u001b[1;33m\u001b[0m\u001b[0m\n\u001b[0m\u001b[0;32m    441\u001b[0m \u001b[1;33m\u001b[0m\u001b[0m\n\u001b[0;32m    442\u001b[0m     \u001b[1;32mif\u001b[0m \u001b[0mchunksize\u001b[0m \u001b[1;32mor\u001b[0m \u001b[0miterator\u001b[0m\u001b[1;33m:\u001b[0m\u001b[1;33m\u001b[0m\u001b[0m\n",
      "\u001b[1;32m~\\anaconda3\\envs\\BscProject\\lib\\site-packages\\pandas\\io\\parsers.py\u001b[0m in \u001b[0;36m__init__\u001b[1;34m(self, f, engine, **kwds)\u001b[0m\n\u001b[0;32m    785\u001b[0m             \u001b[0mself\u001b[0m\u001b[1;33m.\u001b[0m\u001b[0moptions\u001b[0m\u001b[1;33m[\u001b[0m\u001b[1;34m'has_index_names'\u001b[0m\u001b[1;33m]\u001b[0m \u001b[1;33m=\u001b[0m \u001b[0mkwds\u001b[0m\u001b[1;33m[\u001b[0m\u001b[1;34m'has_index_names'\u001b[0m\u001b[1;33m]\u001b[0m\u001b[1;33m\u001b[0m\u001b[0m\n\u001b[0;32m    786\u001b[0m \u001b[1;33m\u001b[0m\u001b[0m\n\u001b[1;32m--> 787\u001b[1;33m         \u001b[0mself\u001b[0m\u001b[1;33m.\u001b[0m\u001b[0m_make_engine\u001b[0m\u001b[1;33m(\u001b[0m\u001b[0mself\u001b[0m\u001b[1;33m.\u001b[0m\u001b[0mengine\u001b[0m\u001b[1;33m)\u001b[0m\u001b[1;33m\u001b[0m\u001b[0m\n\u001b[0m\u001b[0;32m    788\u001b[0m \u001b[1;33m\u001b[0m\u001b[0m\n\u001b[0;32m    789\u001b[0m     \u001b[1;32mdef\u001b[0m \u001b[0mclose\u001b[0m\u001b[1;33m(\u001b[0m\u001b[0mself\u001b[0m\u001b[1;33m)\u001b[0m\u001b[1;33m:\u001b[0m\u001b[1;33m\u001b[0m\u001b[0m\n",
      "\u001b[1;32m~\\anaconda3\\envs\\BscProject\\lib\\site-packages\\pandas\\io\\parsers.py\u001b[0m in \u001b[0;36m_make_engine\u001b[1;34m(self, engine)\u001b[0m\n\u001b[0;32m   1012\u001b[0m     \u001b[1;32mdef\u001b[0m \u001b[0m_make_engine\u001b[0m\u001b[1;33m(\u001b[0m\u001b[0mself\u001b[0m\u001b[1;33m,\u001b[0m \u001b[0mengine\u001b[0m\u001b[1;33m=\u001b[0m\u001b[1;34m'c'\u001b[0m\u001b[1;33m)\u001b[0m\u001b[1;33m:\u001b[0m\u001b[1;33m\u001b[0m\u001b[0m\n\u001b[0;32m   1013\u001b[0m         \u001b[1;32mif\u001b[0m \u001b[0mengine\u001b[0m \u001b[1;33m==\u001b[0m \u001b[1;34m'c'\u001b[0m\u001b[1;33m:\u001b[0m\u001b[1;33m\u001b[0m\u001b[0m\n\u001b[1;32m-> 1014\u001b[1;33m             \u001b[0mself\u001b[0m\u001b[1;33m.\u001b[0m\u001b[0m_engine\u001b[0m \u001b[1;33m=\u001b[0m \u001b[0mCParserWrapper\u001b[0m\u001b[1;33m(\u001b[0m\u001b[0mself\u001b[0m\u001b[1;33m.\u001b[0m\u001b[0mf\u001b[0m\u001b[1;33m,\u001b[0m \u001b[1;33m**\u001b[0m\u001b[0mself\u001b[0m\u001b[1;33m.\u001b[0m\u001b[0moptions\u001b[0m\u001b[1;33m)\u001b[0m\u001b[1;33m\u001b[0m\u001b[0m\n\u001b[0m\u001b[0;32m   1015\u001b[0m         \u001b[1;32melse\u001b[0m\u001b[1;33m:\u001b[0m\u001b[1;33m\u001b[0m\u001b[0m\n\u001b[0;32m   1016\u001b[0m             \u001b[1;32mif\u001b[0m \u001b[0mengine\u001b[0m \u001b[1;33m==\u001b[0m \u001b[1;34m'python'\u001b[0m\u001b[1;33m:\u001b[0m\u001b[1;33m\u001b[0m\u001b[0m\n",
      "\u001b[1;32m~\\anaconda3\\envs\\BscProject\\lib\\site-packages\\pandas\\io\\parsers.py\u001b[0m in \u001b[0;36m__init__\u001b[1;34m(self, src, **kwds)\u001b[0m\n\u001b[0;32m   1706\u001b[0m         \u001b[0mkwds\u001b[0m\u001b[1;33m[\u001b[0m\u001b[1;34m'usecols'\u001b[0m\u001b[1;33m]\u001b[0m \u001b[1;33m=\u001b[0m \u001b[0mself\u001b[0m\u001b[1;33m.\u001b[0m\u001b[0musecols\u001b[0m\u001b[1;33m\u001b[0m\u001b[0m\n\u001b[0;32m   1707\u001b[0m \u001b[1;33m\u001b[0m\u001b[0m\n\u001b[1;32m-> 1708\u001b[1;33m         \u001b[0mself\u001b[0m\u001b[1;33m.\u001b[0m\u001b[0m_reader\u001b[0m \u001b[1;33m=\u001b[0m \u001b[0mparsers\u001b[0m\u001b[1;33m.\u001b[0m\u001b[0mTextReader\u001b[0m\u001b[1;33m(\u001b[0m\u001b[0msrc\u001b[0m\u001b[1;33m,\u001b[0m \u001b[1;33m**\u001b[0m\u001b[0mkwds\u001b[0m\u001b[1;33m)\u001b[0m\u001b[1;33m\u001b[0m\u001b[0m\n\u001b[0m\u001b[0;32m   1709\u001b[0m \u001b[1;33m\u001b[0m\u001b[0m\n\u001b[0;32m   1710\u001b[0m         \u001b[0mpassed_names\u001b[0m \u001b[1;33m=\u001b[0m \u001b[0mself\u001b[0m\u001b[1;33m.\u001b[0m\u001b[0mnames\u001b[0m \u001b[1;32mis\u001b[0m \u001b[1;32mNone\u001b[0m\u001b[1;33m\u001b[0m\u001b[0m\n",
      "\u001b[1;32mpandas\\_libs\\parsers.pyx\u001b[0m in \u001b[0;36mpandas._libs.parsers.TextReader.__cinit__\u001b[1;34m()\u001b[0m\n",
      "\u001b[1;32mpandas\\_libs\\parsers.pyx\u001b[0m in \u001b[0;36mpandas._libs.parsers.TextReader._setup_parser_source\u001b[1;34m()\u001b[0m\n",
      "\u001b[1;31mFileNotFoundError\u001b[0m: File b'test-data-filtered.csv' does not exist"
     ]
    }
   ],
   "source": [
    "# read text data from file\n",
    "df = pd.read_csv(\"test-data-filtered.csv\")\n",
    "df.head(30)"
   ]
  },
  {
   "cell_type": "code",
   "execution_count": 30,
   "metadata": {},
   "outputs": [
    {
     "data": {
      "text/plain": [
       "array([1, 1, 1, 1, 1, 1, 1, 1, 1, 1, 1, 1, 1, 0, 1, 1, 1, 1, 1, 1, 1, 1,\n",
       "       1, 1, 1, 1, 1, 1, 1, 1, 1, 1, 1, 1, 1, 1, 1, 1, 1, 1, 1, 1, 1, 1,\n",
       "       1, 1, 1, 1, 1, 1, 1, 1, 1, 1, 1, 1, 1, 1, 1, 1, 1, 1, 1, 1, 1, 1,\n",
       "       1, 1, 1, 1, 1, 1, 1, 1, 1, 1, 1, 1, 1, 1, 1, 1, 1, 1, 1, 1, 1, 1,\n",
       "       1, 1, 1, 1, 1, 1, 1, 1, 1, 1, 1, 0])"
      ]
     },
     "execution_count": 30,
     "metadata": {},
     "output_type": "execute_result"
    }
   ],
   "source": [
    "# transformed \n",
    "test_vector = vectorizer.transform(df.reviewText.values.astype('U'))\n",
    "actualPredict = model.predict(test_vector)\n",
    "actualPredict"
   ]
  },
  {
   "cell_type": "markdown",
   "metadata": {},
   "source": [
    "#### Printing meaningful output statement for user based on their feedback"
   ]
  },
  {
   "cell_type": "code",
   "execution_count": 31,
   "metadata": {},
   "outputs": [
    {
     "name": "stdout",
     "output_type": "stream",
     "text": [
      "0 Your feedback is Positive\n",
      "1 Your feedback is Positive\n",
      "2 Your feedback is Positive\n",
      "3 Your feedback is Positive\n",
      "4 Your feedback is Positive\n",
      "5 Your feedback is Positive\n",
      "6 Your feedback is Positive\n",
      "7 Your feedback is Positive\n",
      "8 Your feedback is Positive\n",
      "9 Your feedback is Positive\n",
      "10 Your feedback is Positive\n",
      "11 Your feedback is Positive\n",
      "12 Your feedback is Positive\n",
      "13 Your feedback is Negative\n",
      "14 Your feedback is Positive\n",
      "15 Your feedback is Positive\n",
      "16 Your feedback is Positive\n",
      "17 Your feedback is Positive\n",
      "18 Your feedback is Positive\n",
      "19 Your feedback is Positive\n",
      "20 Your feedback is Positive\n",
      "21 Your feedback is Positive\n",
      "22 Your feedback is Positive\n",
      "23 Your feedback is Positive\n",
      "24 Your feedback is Positive\n",
      "25 Your feedback is Positive\n",
      "26 Your feedback is Positive\n",
      "27 Your feedback is Positive\n",
      "28 Your feedback is Positive\n",
      "29 Your feedback is Positive\n",
      "30 Your feedback is Positive\n",
      "31 Your feedback is Positive\n",
      "32 Your feedback is Positive\n",
      "33 Your feedback is Positive\n",
      "34 Your feedback is Positive\n",
      "35 Your feedback is Positive\n",
      "36 Your feedback is Positive\n",
      "37 Your feedback is Positive\n",
      "38 Your feedback is Positive\n",
      "39 Your feedback is Positive\n",
      "40 Your feedback is Positive\n",
      "41 Your feedback is Positive\n",
      "42 Your feedback is Positive\n",
      "43 Your feedback is Positive\n",
      "44 Your feedback is Positive\n",
      "45 Your feedback is Positive\n",
      "46 Your feedback is Positive\n",
      "47 Your feedback is Positive\n",
      "48 Your feedback is Positive\n",
      "49 Your feedback is Positive\n",
      "50 Your feedback is Positive\n",
      "51 Your feedback is Positive\n",
      "52 Your feedback is Positive\n",
      "53 Your feedback is Positive\n",
      "54 Your feedback is Positive\n",
      "55 Your feedback is Positive\n",
      "56 Your feedback is Positive\n",
      "57 Your feedback is Positive\n",
      "58 Your feedback is Positive\n",
      "59 Your feedback is Positive\n",
      "60 Your feedback is Positive\n",
      "61 Your feedback is Positive\n",
      "62 Your feedback is Positive\n",
      "63 Your feedback is Positive\n",
      "64 Your feedback is Positive\n",
      "65 Your feedback is Positive\n",
      "66 Your feedback is Positive\n",
      "67 Your feedback is Positive\n",
      "68 Your feedback is Positive\n",
      "69 Your feedback is Positive\n",
      "70 Your feedback is Positive\n",
      "71 Your feedback is Positive\n",
      "72 Your feedback is Positive\n",
      "73 Your feedback is Positive\n",
      "74 Your feedback is Positive\n",
      "75 Your feedback is Positive\n",
      "76 Your feedback is Positive\n",
      "77 Your feedback is Positive\n",
      "78 Your feedback is Positive\n",
      "79 Your feedback is Positive\n",
      "80 Your feedback is Positive\n",
      "81 Your feedback is Positive\n",
      "82 Your feedback is Positive\n",
      "83 Your feedback is Positive\n",
      "84 Your feedback is Positive\n",
      "85 Your feedback is Positive\n",
      "86 Your feedback is Positive\n",
      "87 Your feedback is Positive\n",
      "88 Your feedback is Positive\n",
      "89 Your feedback is Positive\n",
      "90 Your feedback is Positive\n",
      "91 Your feedback is Positive\n",
      "92 Your feedback is Positive\n",
      "93 Your feedback is Positive\n",
      "94 Your feedback is Positive\n",
      "95 Your feedback is Positive\n",
      "96 Your feedback is Positive\n",
      "97 Your feedback is Positive\n",
      "98 Your feedback is Positive\n",
      "99 Your feedback is Negative\n"
     ]
    }
   ],
   "source": [
    "for index, feedback in enumerate(actualPredict):\n",
    "    if(feedback == 1):\n",
    "        print(index, \"Your feedback is Positive\")\n",
    "    else:\n",
    "        print(index, \"Your feedback is Negative\")"
   ]
  },
  {
   "cell_type": "code",
   "execution_count": 10,
   "metadata": {},
   "outputs": [
    {
     "data": {
      "text/plain": [
       "['classical-model.joblib']"
      ]
     },
     "execution_count": 10,
     "metadata": {},
     "output_type": "execute_result"
    }
   ],
   "source": [
    "joblib.dump(vectorizer, 'classfical-vectorizer.joblib') \n",
    "joblib.dump(model,'classical-model.joblib')"
   ]
  },
  {
   "cell_type": "code",
   "execution_count": 22,
   "metadata": {},
   "outputs": [
    {
     "data": {
      "text/plain": [
       "array([1], dtype=int64)"
      ]
     },
     "execution_count": 22,
     "metadata": {},
     "output_type": "execute_result"
    }
   ],
   "source": [
    "newVector = joblib.load('classfical-vectorizer.joblib') \n",
    "newModel = joblib.load('classical-model.joblib') \n"
   ]
  },
  {
   "cell_type": "code",
   "execution_count": 10,
   "metadata": {},
   "outputs": [
    {
     "ename": "NameError",
     "evalue": "name 'newVector' is not defined",
     "output_type": "error",
     "traceback": [
      "\u001b[1;31m---------------------------------------------------------------------------\u001b[0m",
      "\u001b[1;31mNameError\u001b[0m                                 Traceback (most recent call last)",
      "\u001b[1;32m<ipython-input-10-9e6ed7a7e1b2>\u001b[0m in \u001b[0;36m<module>\u001b[1;34m\u001b[0m\n\u001b[0;32m      1\u001b[0m \u001b[1;31m# transformed\u001b[0m\u001b[1;33m\u001b[0m\u001b[1;33m\u001b[0m\u001b[0m\n\u001b[0;32m      2\u001b[0m \u001b[0mmytext\u001b[0m \u001b[1;33m=\u001b[0m \u001b[1;34m'Worst product I have seen ever'\u001b[0m\u001b[1;33m\u001b[0m\u001b[0m\n\u001b[1;32m----> 3\u001b[1;33m \u001b[0mmyVectortest\u001b[0m \u001b[1;33m=\u001b[0m \u001b[0mnewVector\u001b[0m\u001b[1;33m.\u001b[0m\u001b[0mtransform\u001b[0m\u001b[1;33m(\u001b[0m\u001b[1;33m[\u001b[0m\u001b[0mmytext\u001b[0m\u001b[1;33m]\u001b[0m\u001b[1;33m)\u001b[0m\u001b[1;33m\u001b[0m\u001b[0m\n\u001b[0m\u001b[0;32m      4\u001b[0m \u001b[0mjoblibPrectict\u001b[0m \u001b[1;33m=\u001b[0m \u001b[0mnewModel\u001b[0m\u001b[1;33m.\u001b[0m\u001b[0mpredict\u001b[0m\u001b[1;33m(\u001b[0m\u001b[0mmyVectortest\u001b[0m\u001b[1;33m)\u001b[0m\u001b[1;33m\u001b[0m\u001b[0m\n\u001b[0;32m      5\u001b[0m \u001b[1;33m\u001b[0m\u001b[0m\n",
      "\u001b[1;31mNameError\u001b[0m: name 'newVector' is not defined"
     ]
    }
   ],
   "source": [
    "# transformed \n",
    "mytext = 'Worst product I have seen ever'\n",
    "myVectortest = newVector.transform([mytext])\n",
    "joblibPrectict = newModel.predict(myVectortest)\n",
    "\n",
    "for index, feedback in enumerate(joblibPrectict):\n",
    "    if(feedback == 1):\n",
    "        print(\"Your feedback is Positive\")\n",
    "    else:\n",
    "        print(\"Your feedback is Negative\")"
   ]
  },
  {
   "cell_type": "code",
   "execution_count": null,
   "metadata": {},
   "outputs": [],
   "source": []
  }
 ],
 "metadata": {
  "kernelspec": {
   "display_name": "Python 3",
   "language": "python",
   "name": "python3"
  },
  "language_info": {
   "codemirror_mode": {
    "name": "ipython",
    "version": 3
   },
   "file_extension": ".py",
   "mimetype": "text/x-python",
   "name": "python",
   "nbconvert_exporter": "python",
   "pygments_lexer": "ipython3",
   "version": "3.6.6"
  }
 },
 "nbformat": 4,
 "nbformat_minor": 2
}
