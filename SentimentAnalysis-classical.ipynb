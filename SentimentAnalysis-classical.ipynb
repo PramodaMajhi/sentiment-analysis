{
 "cells": [
  {
   "cell_type": "markdown",
   "metadata": {},
   "source": [
    "\n",
    "<br/>\n",
    "\n",
    "## Stage 1: Business Understanding\n"
   ]
  },
  {
   "cell_type": "markdown",
   "metadata": {},
   "source": [
    "Business understanding is important part of any machine learning model. \n",
    "This is about building a predictive model that can predict the positive or negative sentiment of customer feedback. \n",
    "\n",
    "<br/>\n",
    "\n"
   ]
  },
  {
   "cell_type": "markdown",
   "metadata": {},
   "source": [
    "## Stage 2:  Data Understanding\n",
    "\n",
    "Data Understanding which is about understanding the raw data use for building the model. In this case we have customer feedback record   data set having 3.4 million of records from Amazon. [the Amazon Product Review](http://snap.stanford.edu/data/amazon/productGraph/categoryFiles/reviews_Health_and_Personal_Care.json.gz)\n",
    "\n"
   ]
  },
  {
   "cell_type": "code",
   "execution_count": 1,
   "metadata": {},
   "outputs": [],
   "source": [
    "import pandas as pd\n",
    "from sklearn.model_selection import train_test_split\n",
    "from sklearn.feature_extraction.text import TfidfVectorizer\n",
    "from sklearn.linear_model import LogisticRegression\n",
    "from sklearn.metrics import accuracy_score\n",
    "from sklearn.metrics import confusion_matrix\n",
    "from sklearn.metrics import precision_recall_fscore_support\n",
    "from sklearn.metrics import classification_report\n",
    "from sklearn.metrics import roc_curve, auc, roc_auc_score\n",
    "import numpy as np\n",
    "import matplotlib.pyplot as plt\n",
    "import seaborn as sns\n",
    "from sklearn.externals import joblib\n",
    "import warnings; warnings.simplefilter('ignore')\n",
    "%matplotlib inline"
   ]
  },
  {
   "cell_type": "code",
   "execution_count": 2,
   "metadata": {},
   "outputs": [
    {
     "data": {
      "text/html": [
       "<div>\n",
       "<style scoped>\n",
       "    .dataframe tbody tr th:only-of-type {\n",
       "        vertical-align: middle;\n",
       "    }\n",
       "\n",
       "    .dataframe tbody tr th {\n",
       "        vertical-align: top;\n",
       "    }\n",
       "\n",
       "    .dataframe thead th {\n",
       "        text-align: right;\n",
       "    }\n",
       "</style>\n",
       "<table border=\"1\" class=\"dataframe\">\n",
       "  <thead>\n",
       "    <tr style=\"text-align: right;\">\n",
       "      <th></th>\n",
       "      <th>asin</th>\n",
       "      <th>helpful</th>\n",
       "      <th>overall</th>\n",
       "      <th>reviewText</th>\n",
       "      <th>reviewTime</th>\n",
       "      <th>reviewerID</th>\n",
       "      <th>reviewerName</th>\n",
       "      <th>summary</th>\n",
       "      <th>unixReviewTime</th>\n",
       "    </tr>\n",
       "  </thead>\n",
       "  <tbody>\n",
       "    <tr>\n",
       "      <th>0</th>\n",
       "      <td>159985130X</td>\n",
       "      <td>[1, 1]</td>\n",
       "      <td>5.0</td>\n",
       "      <td>This is a great little gadget to have around.  We've already used it to look for splinters and a few other uses.  The light is great.  It's a handy size.  However, I do wish I'd bought one with a little higher magnification.</td>\n",
       "      <td>01 5, 2011</td>\n",
       "      <td>ALC5GH8CAMAI7</td>\n",
       "      <td>AnnN</td>\n",
       "      <td>Handy little gadget</td>\n",
       "      <td>1294185600</td>\n",
       "    </tr>\n",
       "    <tr>\n",
       "      <th>1</th>\n",
       "      <td>159985130X</td>\n",
       "      <td>[1, 1]</td>\n",
       "      <td>4.0</td>\n",
       "      <td>I would recommend this for a travel magnifier for the occasional reading.I had read on another review about a magnifier having a problem with the light coming on. I did find that this one appeared to be DOA out of the box. But, after opening &amp; shutting the viewer to turn on &amp; off the light, the light began to come on. After several times of doing this, the light appears to be coming on all the time.It is small, but for taking it someplace &amp; reading things like a menu in a dark corner of a restaurant, this is great.</td>\n",
       "      <td>02 18, 2012</td>\n",
       "      <td>AHKSURW85PJUE</td>\n",
       "      <td>AZ buyer \"AZ buyer\"</td>\n",
       "      <td>Small &amp; may need to encourage battery</td>\n",
       "      <td>1329523200</td>\n",
       "    </tr>\n",
       "  </tbody>\n",
       "</table>\n",
       "</div>"
      ],
      "text/plain": [
       "         asin helpful  overall  \\\n",
       "0  159985130X  [1, 1]  5.0       \n",
       "1  159985130X  [1, 1]  4.0       \n",
       "\n",
       "                                                                                                                                                                                                                                                                                                                                                                                                                                                                                                                                 reviewText  \\\n",
       "0  This is a great little gadget to have around.  We've already used it to look for splinters and a few other uses.  The light is great.  It's a handy size.  However, I do wish I'd bought one with a little higher magnification.                                                                                                                                                                                                                                                                                                           \n",
       "1  I would recommend this for a travel magnifier for the occasional reading.I had read on another review about a magnifier having a problem with the light coming on. I did find that this one appeared to be DOA out of the box. But, after opening & shutting the viewer to turn on & off the light, the light began to come on. After several times of doing this, the light appears to be coming on all the time.It is small, but for taking it someplace & reading things like a menu in a dark corner of a restaurant, this is great.   \n",
       "\n",
       "    reviewTime     reviewerID         reviewerName  \\\n",
       "0  01 5, 2011   ALC5GH8CAMAI7  AnnN                  \n",
       "1  02 18, 2012  AHKSURW85PJUE  AZ buyer \"AZ buyer\"   \n",
       "\n",
       "                                 summary  unixReviewTime  \n",
       "0  Handy little gadget                    1294185600      \n",
       "1  Small & may need to encourage battery  1329523200      "
      ]
     },
     "execution_count": 2,
     "metadata": {},
     "output_type": "execute_result"
    }
   ],
   "source": [
    "# df = pd.read_csv(\"Output.csv\", sep='\\t', error_bad_lines= False, nrows=1000) # testing for purpose only\n",
    "df = pd.read_csv(\"Output.csv\", sep='\\t', error_bad_lines= False, index_col=0)\n",
    "pd.set_option('display.max_colwidth', -1)\n",
    "df.head(2)"
   ]
  },
  {
   "cell_type": "markdown",
   "metadata": {},
   "source": [
    "## Stage 3: Data Preparation\n",
    "\n",
    "All the ratings generally in the range of 1 to 5.\n",
    "\n",
    "As this is a binary classification problem, we need to convert ratings to 1 or 0, 1 for positive and 0 for negative, hold the value in a derived column review_class for to train our model.\n",
    "\n"
   ]
  },
  {
   "cell_type": "markdown",
   "metadata": {},
   "source": [
    "#### We need to convert ratings to 1 or 0, 1 for positive and 0 for negative, hold the value in a derived column review_class for to train our model."
   ]
  },
  {
   "cell_type": "code",
   "execution_count": 3,
   "metadata": {
    "scrolled": false
   },
   "outputs": [],
   "source": [
    "df = df[['overall','reviewText']]\n",
    "df['review_class'] = [1 if x > 3 else 0 for x in df.overall]"
   ]
  },
  {
   "cell_type": "code",
   "execution_count": 4,
   "metadata": {},
   "outputs": [
    {
     "data": {
      "text/html": [
       "<div>\n",
       "<style scoped>\n",
       "    .dataframe tbody tr th:only-of-type {\n",
       "        vertical-align: middle;\n",
       "    }\n",
       "\n",
       "    .dataframe tbody tr th {\n",
       "        vertical-align: top;\n",
       "    }\n",
       "\n",
       "    .dataframe thead th {\n",
       "        text-align: right;\n",
       "    }\n",
       "</style>\n",
       "<table border=\"1\" class=\"dataframe\">\n",
       "  <thead>\n",
       "    <tr style=\"text-align: right;\">\n",
       "      <th></th>\n",
       "      <th>reviewText</th>\n",
       "      <th>review_class</th>\n",
       "    </tr>\n",
       "  </thead>\n",
       "  <tbody>\n",
       "    <tr>\n",
       "      <th>8</th>\n",
       "      <td>The screen of the magnifier is small. If you're looking to read text this is not going to work. Though I have not attempted to replace the battery, battery container seems to be contained by a very small screw-A Phillips screwdriver-of which would have to be incredibly small. I dread having to replace his battery.</td>\n",
       "      <td>0</td>\n",
       "    </tr>\n",
       "    <tr>\n",
       "      <th>16</th>\n",
       "      <td>This is a great little portable magnifier with light.  I bought 2 of them so I could keep one in my purse and have one for my desk.  However, my husband liked the blue one so much he took off with one and now I need to re-order!It is slightly curved so it feels good in your grip.  Closed, it measures about as long as your standard full-sized desktop mouse and about a half inch thick.  The viewing glass area is about as big as the face/screen of a flip style cell phone.  When open it emits an impressively strong light that works like a champ in the darkest of rooms. As it is an LED light it should have a very long operating life as LEDs don't require a lot of power.  Presumably the battery could be changed if needed as there is a small door with a single screw located behind where the light is housed.  5 stars!</td>\n",
       "      <td>1</td>\n",
       "    </tr>\n",
       "    <tr>\n",
       "      <th>17</th>\n",
       "      <td>This magnifier has nothing to cover it when not in use.I compared it with a Carson 3x magnifier and this one did not seem as clear as the Carson - hard to see the furigana clearly in Japanese comic books with this one.The Carson ones come with a cover.I would recommend the Carson 5x if you are looking for good size enlarging.Carson MiniBrite 5x Power Slide- Out MagnifierI wish I had skipped the 3x and gone with the 5x only.For this one in the 3x, the light works well and lights things up nicely.Carson MiniBrite 5x Power Slide- Out Magnifier</td>\n",
       "      <td>0</td>\n",
       "    </tr>\n",
       "    <tr>\n",
       "      <th>20</th>\n",
       "      <td>purchased this for someone who has macular degeneration and she actually cried when she used it because she had not been able to read a newspaper for a couple years. Although I also bought her a small hand-held magnifier, this covers a large area so you don't have to continually move the magnifier back and forth across the page.This allows it to be of use for reading large pages such as a newspaper or a full menu, for example.The fact that it is rigid allows it to be held more easily without it bending as some do which causes blurring and distortion of the page.</td>\n",
       "      <td>1</td>\n",
       "    </tr>\n",
       "  </tbody>\n",
       "</table>\n",
       "</div>"
      ],
      "text/plain": [
       "                                                                                                                                                                                                                                                                                                                                                                                                                                                                                                                                                                                                                                                                                                                                                                                                                                               reviewText  \\\n",
       "8   The screen of the magnifier is small. If you're looking to read text this is not going to work. Though I have not attempted to replace the battery, battery container seems to be contained by a very small screw-A Phillips screwdriver-of which would have to be incredibly small. I dread having to replace his battery.                                                                                                                                                                                                                                                                                                                                                                                                                                                                                                                             \n",
       "16  This is a great little portable magnifier with light.  I bought 2 of them so I could keep one in my purse and have one for my desk.  However, my husband liked the blue one so much he took off with one and now I need to re-order!It is slightly curved so it feels good in your grip.  Closed, it measures about as long as your standard full-sized desktop mouse and about a half inch thick.  The viewing glass area is about as big as the face/screen of a flip style cell phone.  When open it emits an impressively strong light that works like a champ in the darkest of rooms. As it is an LED light it should have a very long operating life as LEDs don't require a lot of power.  Presumably the battery could be changed if needed as there is a small door with a single screw located behind where the light is housed.  5 stars!   \n",
       "17  This magnifier has nothing to cover it when not in use.I compared it with a Carson 3x magnifier and this one did not seem as clear as the Carson - hard to see the furigana clearly in Japanese comic books with this one.The Carson ones come with a cover.I would recommend the Carson 5x if you are looking for good size enlarging.Carson MiniBrite 5x Power Slide- Out MagnifierI wish I had skipped the 3x and gone with the 5x only.For this one in the 3x, the light works well and lights things up nicely.Carson MiniBrite 5x Power Slide- Out Magnifier                                                                                                                                                                                                                                                                                      \n",
       "20  purchased this for someone who has macular degeneration and she actually cried when she used it because she had not been able to read a newspaper for a couple years. Although I also bought her a small hand-held magnifier, this covers a large area so you don't have to continually move the magnifier back and forth across the page.This allows it to be of use for reading large pages such as a newspaper or a full menu, for example.The fact that it is rigid allows it to be held more easily without it bending as some do which causes blurring and distortion of the page.                                                                                                                                                                                                                                                                \n",
       "\n",
       "    review_class  \n",
       "8   0             \n",
       "16  1             \n",
       "17  0             \n",
       "20  1             "
      ]
     },
     "execution_count": 4,
     "metadata": {},
     "output_type": "execute_result"
    }
   ],
   "source": [
    "df1 = df[['reviewText','review_class']]\n",
    "# df1.set_index(\"reviewText\", inplace=True)\n",
    "df1.iloc[[8,16, 17, 20]]"
   ]
  },
  {
   "cell_type": "code",
   "execution_count": 6,
   "metadata": {},
   "outputs": [],
   "source": [
    "sns.heatmap?"
   ]
  },
  {
   "cell_type": "markdown",
   "metadata": {},
   "source": [
    "### Vectorization\n",
    "In order for this data to make sense to our machine learning algorithm, we’ll need to convert each customer feedback review to a numeric representation. \n",
    "\n",
    "In classification of machine learning, items are represented by their features. In our case, customer feedback reviews are represented by their words, so we will use words as features.\n",
    "\n",
    "#### Finding TFID\n",
    "\n",
    "TF-IDF, which stands for term frequency — inverse document frequency, is a scoring measure widely used in information retrieval (IR) or summarization. TF-IDF is intended to reflect how relevant a term is in a given document.\n",
    "\n",
    "#### Mathematical Calculation\n",
    "#### Term Frequency\n",
    "Term Frequency = (Number of occurrences of a word)/(Total words in the document)  \n",
    "#### Inverse Document Frequency \n",
    "IDF(word) = Log((Total number of documents)/(Number of documents containing the word))  \n",
    "\n",
    "\n",
    "Next steps, we need to divide our data into training and testing sets , 70% data is training and 30% is testing\n"
   ]
  },
  {
   "cell_type": "code",
   "execution_count": 5,
   "metadata": {},
   "outputs": [
    {
     "name": "stdout",
     "output_type": "stream",
     "text": [
      "x_train shape: (242448,)\n",
      "y_train shape: (242448,)\n",
      "\n",
      "x_test shape: (103907,)\n",
      "y_test shape: (103907,)\n",
      "\n"
     ]
    }
   ],
   "source": [
    "x_train, x_test, y_train, y_test = train_test_split(df.reviewText, df.review_class, test_size=0.3, random_state=0)\n",
    " \n",
    "print(\"x_train shape: {}\".format(x_train.shape), end='\\n')\n",
    "print(\"y_train shape: {}\".format(y_train.shape), end='\\n\\n')\n",
    "print(\"x_test shape: {}\".format(x_test.shape), end='\\n')\n",
    "print(\"y_test shape: {}\".format(y_test.shape), end='\\n\\n')\n",
    "\n",
    "\n",
    "# Convert a collection of raw documents to a matrix\n",
    "# vectorizer = TfidfVectorizer(decode_error='replace', encoding='utf-8')\n",
    "vectorizer = TfidfVectorizer(decode_error='replace', encoding='utf-8', sublinear_tf=True, max_features=10000, ngram_range=(1,3))\n",
    "# Learn vocabulary and idf from training set.\n",
    "vectorizer.fit(x_train.values.astype('U'))\n",
    "# Learn vocabulary and idf, return term-document matrix. \n",
    "# Uses the vocabulary and document frequencies (df) learned by fit.\n",
    "x_train_tv = vectorizer.transform(x_train.values.astype('U'))\n",
    "x_test_tv = vectorizer.transform(x_test.values.astype('U'))"
   ]
  },
  {
   "cell_type": "markdown",
   "metadata": {},
   "source": [
    "The most interesting parameter here is ngram_range - we're telling it to generate 2 and 3 word phrases along with the single words from the corpus.\n",
    "\n",
    "e.g. if we had the sentence \"Python is cool\" we'd end up with 6 phrases - 'Python', 'is', 'cool', 'Python is', 'Python is cool' and 'is cool'."
   ]
  },
  {
   "cell_type": "code",
   "execution_count": 19,
   "metadata": {},
   "outputs": [
    {
     "data": {
      "image/png": "[encoded data removed]",
      "text/plain": [
       "<Figure size 1080x720 with 1 Axes>"
      ]
     },
     "metadata": {
      "needs_background": "light"
     },
     "output_type": "display_data"
    }
   ],
   "source": [
    "def plot_coefficients(model, feature_names, top_features=25):\n",
    " coef = model.coef_.ravel()\n",
    " top_positive_coefficients = np.argsort(coef)[-top_features:][::-1]\n",
    " top_negative_coefficients = np.argsort(coef)[:top_features]\n",
    " top_coefficients = np.hstack([top_negative_coefficients, top_positive_coefficients])\n",
    " # create plot\n",
    " plt.figure(figsize=(15, 10))\n",
    " colors = ['red' if c < 0 else 'green' for c in coef[top_coefficients]]\n",
    " plt.bar(np.arange(2 * top_features), coef[top_coefficients], color=colors)\n",
    " feature_names = np.array(feature_names)\n",
    " plt.xticks(np.arange(1, 1 + 2 * top_features), feature_names[top_coefficients], rotation=60, ha='right')\n",
    " plt.ylabel('Coefficients')\n",
    " plt.xlabel('Words')\n",
    " plt.show()\n",
    "plot_coefficients(model, vectorizer.get_feature_names())\n"
   ]
  },
  {
   "cell_type": "markdown",
   "metadata": {},
   "source": [
    "## Stage 4: Modeling\n",
    "\n",
    "### Building Classifier : Linear Regression with Scikit-Learn\n",
    "\n",
    "Now that we’ve transformed our dataset into a format suitable for modeling we can start building a classifier.\n",
    "Logistic Regression is a good baseline model for us to use for several reasons: \n",
    "* They’re easy to interpret,\n",
    "* linear models tend to perform well on sparse datasets \n",
    "* learn very fast compared to other algorithms.\n",
    "\n",
    "### Training & Testing\n",
    "We should train a model using the 70% training set and evaluate our accuracy on the records set"
   ]
  },
  {
   "cell_type": "code",
   "execution_count": 7,
   "metadata": {},
   "outputs": [],
   "source": [
    "# training algorithm \n",
    "model = LogisticRegression()\n",
    "# Fit the model according to the given training data.\n",
    "# Training vector, where n_samples is the number of samples and n_features is the number of features.\n",
    "model.fit(x_train_tv,y_train)\n",
    "# Predict class labels for samples in X.\n",
    "y_predict = model.predict(x_test_tv)"
   ]
  },
  {
   "cell_type": "markdown",
   "metadata": {},
   "source": [
    "## Stage 5 : Evaluation"
   ]
  },
  {
   "cell_type": "markdown",
   "metadata": {},
   "source": [
    "Evaluating machine learning algorithm is an essential part. \n",
    "\n",
    "This visual called The ROC curve is measure the true positive rate against the false positive rate at \n",
    "various threshold, and Area Under Curve, it is use for binary classification problem\n",
    "\n"
   ]
  },
  {
   "cell_type": "code",
   "execution_count": 8,
   "metadata": {},
   "outputs": [
    {
     "name": "stdout",
     "output_type": "stream",
     "text": [
      "AUC 0.9222848057167831\n",
      "Score 0.8900362824448786\n"
     ]
    },
    {
     "data": {
      "image/png": "[encoded data removed]",
      "text/plain": [
       "<Figure size 432x288 with 1 Axes>"
      ]
     },
     "metadata": {
      "needs_background": "light"
     },
     "output_type": "display_data"
    }
   ],
   "source": [
    "# Accuracy classification score\n",
    "cv_score = accuracy_score(y_test,y_predict)\n",
    "# predict probabilities\n",
    "probs = model.predict_proba(x_test_tv)\n",
    "probas = probs[:,1]\n",
    "# AUC report\n",
    "false_positive_rate, true_positive_rate, thresholds = roc_curve(y_test, probas)\n",
    "roc_auc = auc(false_positive_rate, true_positive_rate)\n",
    "print('AUC', roc_auc)\n",
    "print('Score', cv_score)\n",
    "\n",
    "plt.title('ROC(Receiver Operating Characteristic)')\n",
    "plt.plot(false_positive_rate, true_positive_rate, 'b', label = 'AUC = %0.2f' % roc_auc)\n",
    "plt.legend(loc = 'lower right')\n",
    "plt.plot([0, 1], [0, 1],'r--')\n",
    "plt.xlim([0, 1])\n",
    "plt.ylim([0, 1])\n",
    "plt.ylabel('True Positive Rate')\n",
    "plt.xlabel('False Positive Rate')\n",
    "plt.show()\n"
   ]
  },
  {
   "cell_type": "markdown",
   "metadata": {},
   "source": [
    "### Accuracy\n",
    "\n",
    "Classification Accuracy is what we usually mean, when we use the term accuracy. It is the ratio of number of correct predictions to the total number of input samples.\n",
    "\n",
    "**Accuracy = No.of correct predictions / Total no.of predictions made**\n",
    "\n",
    "Mathematically,  accuracy = (tp + tn) / (tp + tn + fp + fn)\n",
    "\n",
    "* True Positives(tp) : The cases in which we predicted YES and the actual output was also YES.\n",
    "* True Negatives(tn) : The cases in which we predicted NO and the actual output was YES.\n",
    "* False Positives(fp) : The cases in which we predicted YES and the actual output was NO.\n",
    "* False Negatives(fn) : The cases in which we predicted NO and the actual output was also NO."
   ]
  },
  {
   "cell_type": "code",
   "execution_count": 9,
   "metadata": {},
   "outputs": [
    {
     "name": "stdout",
     "output_type": "stream",
     "text": [
      "Accuracy score: 0.8900362824448786\n"
     ]
    },
    {
     "data": {
      "image/png": "[encoded data removed]",
      "text/plain": [
       "<Figure size 1080x576 with 1 Axes>"
      ]
     },
     "metadata": {
      "needs_background": "light"
     },
     "output_type": "display_data"
    }
   ],
   "source": [
    "# Plotting the graph\n",
    "results = {'Model':['LogisticRegression'],\n",
    "           'TfidfVectorizer':[cv_score]\n",
    "         }\n",
    " \n",
    "    \n",
    "results_df = pd.DataFrame(results)\n",
    "results_df.plot.bar(ylim=(0.60,1.0), figsize=(15,8), align='center', colormap=\"Oranges_r\")\n",
    "plt.xticks(np.arange(5), results_df.Model)\n",
    "\n",
    "# printing the out of the score\n",
    "print('Accuracy score:', cv_score) "
   ]
  },
  {
   "cell_type": "markdown",
   "metadata": {},
   "source": [
    "### Reporting\n",
    "\n",
    "#### Confusion Matrix\n",
    "A confusion matrix is a table that is often used to describe the performance of a classification model (or \"classifier\")\n",
    "with two rows and two columns that report the number of **false positive** and **false negative**\n",
    "\n",
    "Each row of the Matrix represents the instances in a predicted class while each column represents the instances in an actual class"
   ]
  },
  {
   "cell_type": "code",
   "execution_count": 10,
   "metadata": {},
   "outputs": [
    {
     "data": {
      "text/plain": [
       "<matplotlib.axes._subplots.AxesSubplot at 0x20d9894f98>"
      ]
     },
     "execution_count": 10,
     "metadata": {},
     "output_type": "execute_result"
    },
    {
     "data": {
      "image/png": "[encoded data removed]",
      "text/plain": [
       "<Figure size 432x288 with 2 Axes>"
      ]
     },
     "metadata": {
      "needs_background": "light"
     },
     "output_type": "display_data"
    }
   ],
   "source": [
    "cm = confusion_matrix(y_test, y_predict)\n",
    "df_cm = pd.DataFrame(cm, ['Positive', 'Negative'], ['Positive', 'Negative'])\n",
    "sns.heatmap(df_cm, annot=True, annot_kws={'size':16}, fmt='g', cmap=\"YlGnBu\")"
   ]
  },
  {
   "cell_type": "markdown",
   "metadata": {},
   "source": [
    "#### Classification Report\n",
    "\n",
    "The precision is the ratio tp / (tp + fp) where tp is the number of true positives and fp the number of false positives. The precision is intuitively the ability of the classifier not to label as positive a sample that is negative.\n",
    "\n",
    "The recall is the ratio tp / (tp + fn) where tp is the number of true positives and fn the number of false negatives. The recall is intuitively the ability of the classifier to find all the positive samples.\n",
    "\n",
    "The F-beta score can be interpreted as a weighted harmonic mean of the precision and recall, where an F-beta score reaches its best value at 1 and worst score at 0.\n",
    "\n",
    "The F-beta score weights recall more than precision by a factor of beta. beta == 1.0 means recall and precision are equally important."
   ]
  },
  {
   "cell_type": "code",
   "execution_count": 11,
   "metadata": {},
   "outputs": [
    {
     "name": "stdout",
     "output_type": "stream",
     "text": [
      "              precision    recall  f1-score   support\n",
      "\n",
      "          0       0.79      0.58      0.67     19913\n",
      "          1       0.91      0.96      0.93     83994\n",
      "\n",
      "avg / total       0.88      0.89      0.88    103907\n",
      "\n"
     ]
    },
    {
     "data": {
      "image/png": "[encoded data removed]",
      "text/plain": [
       "<Figure size 720x720 with 1 Axes>"
      ]
     },
     "metadata": {
      "needs_background": "light"
     },
     "output_type": "display_data"
    }
   ],
   "source": [
    "def plot_classification_report(y_tru, y_prd, figsize=(10, 10), ax=None):\n",
    "\n",
    "    plt.figure(figsize=figsize)\n",
    "\n",
    "    xticks = ['precision', 'recall', 'f1-score', 'support']\n",
    "    yticks = list(np.unique(y_tru))\n",
    "    yticks += ['avg']\n",
    "\n",
    "    rep = np.array(precision_recall_fscore_support(y_tru, y_prd)).T\n",
    "    avg = np.mean(rep, axis=0)\n",
    "    avg[-1] = np.sum(rep[:, -1])\n",
    "    rep = np.insert(rep, rep.shape[0], avg, axis=0)\n",
    "\n",
    "    sns.heatmap(rep,\n",
    "                annot=True, \n",
    "                cbar=False, \n",
    "                xticklabels=xticks, \n",
    "                yticklabels=yticks,\n",
    "                ax=ax,\n",
    "               cmap=sns.diverging_palette(760, 153, l=70, n=7, center=\"dark\"))\n",
    "    \n",
    "print('', classification_report(y_test, y_predict))\n",
    "plot_classification_report(y_test, y_predict)\n"
   ]
  },
  {
   "cell_type": "markdown",
   "metadata": {},
   "source": [
    "## Stage 6: Deployment\n",
    "The last process of the entire framework is the deployment. \n",
    "We have trained our model and achieved very good accuracy score ~89% which is quite number."
   ]
  },
  {
   "cell_type": "code",
   "execution_count": 154,
   "metadata": {},
   "outputs": [
    {
     "data": {
      "text/plain": [
       "['classical-model-nongram.joblib']"
      ]
     },
     "execution_count": 154,
     "metadata": {},
     "output_type": "execute_result"
    }
   ],
   "source": [
    "joblib.dump(vectorizer, 'classical-vectorizer.joblib') \n",
    "joblib.dump(model,'classical-model.joblib')"
   ]
  },
  {
   "cell_type": "code",
   "execution_count": 22,
   "metadata": {},
   "outputs": [
    {
     "data": {
      "text/plain": [
       "array([1], dtype=int64)"
      ]
     },
     "execution_count": 22,
     "metadata": {},
     "output_type": "execute_result"
    }
   ],
   "source": [
    "newVector = joblib.load('classfical-vectorizer.joblib') \n",
    "newModel = joblib.load('classical-model.joblib') \n"
   ]
  },
  {
   "cell_type": "code",
   "execution_count": 108,
   "metadata": {},
   "outputs": [
    {
     "data": {
      "text/plain": [
       "array([-0.60938771,  0.25720443, -0.88808027, ..., -0.8798884 ,\n",
       "        0.00940612,  1.90137185])"
      ]
     },
     "execution_count": 108,
     "metadata": {},
     "output_type": "execute_result"
    }
   ],
   "source": [
    "model.coef_.ravel()"
   ]
  },
  {
   "cell_type": "markdown",
   "metadata": {},
   "source": [
    "### Testing\n",
    "Testing is a good approach to test your model, the data we have prepared for our unit testing, where our model has not shown these data before. I have taken 100 records to unit test our model."
   ]
  },
  {
   "cell_type": "code",
   "execution_count": 114,
   "metadata": {},
   "outputs": [
    {
     "data": {
      "text/html": [
       "<div>\n",
       "<style scoped>\n",
       "    .dataframe tbody tr th:only-of-type {\n",
       "        vertical-align: middle;\n",
       "    }\n",
       "\n",
       "    .dataframe tbody tr th {\n",
       "        vertical-align: top;\n",
       "    }\n",
       "\n",
       "    .dataframe thead th {\n",
       "        text-align: right;\n",
       "    }\n",
       "</style>\n",
       "<table border=\"1\" class=\"dataframe\">\n",
       "  <thead>\n",
       "    <tr style=\"text-align: left;\">\n",
       "      <th></th>\n",
       "      <th>reviewText</th>\n",
       "    </tr>\n",
       "  </thead>\n",
       "  <tbody>\n",
       "    <tr>\n",
       "      <th>0</th>\n",
       "      <td>If you are looking to detox and lose weight this is the product for you.  I and my son have been using it for three weeks now I have lost five pounds and he has lost about 8 pounds, it detoxs your body and curb your appetite. I am so happy with myself I feel more confident and looks better when I look in the mirror. I will recommend it to any one who has that stubborn weight and has tried everything, it works because it detoxify and curb the appetite at the same time, try it you have got nothing to lose but  the weight.</td>\n",
       "    </tr>\n",
       "    <tr>\n",
       "      <th>1</th>\n",
       "      <td>When I need the help I turn to Vital and Strong Raspberry Ketones. Besides helping to curb my appetite these little beauties come in handy to give me an energy boost. I also like the fact that I don't have to live in the gym and sweat to death in order to lose a couple of pound's.</td>\n",
       "    </tr>\n",
       "    <tr>\n",
       "      <th>2</th>\n",
       "      <td>First off, it should be said that this product needs to be used along with a balanced diet and exercise.  This is not a magic pill, that simply does not exist. That being said, I have noticed good results with this product. Less bloating and more of a toned stomach. I would definitely recommend this product. I have used other Vital &amp; Strong too, and all of them have been great. Plus, the packaging is great.</td>\n",
       "    </tr>\n",
       "    <tr>\n",
       "      <th>3</th>\n",
       "      <td>Trying to drop a few pounds well then this is your product.  If you use this product with Garcinia Cambogia then you will get some amazing results.  I have a friend that has used both together and she has lost over 10 pounds in a month.</td>\n",
       "    </tr>\n",
       "    <tr>\n",
       "      <th>4</th>\n",
       "      <td>Easy to swallow...no side effects so far. Helps control appetite but still waiting on weight loss...may take longer.</td>\n",
       "    </tr>\n",
       "    <tr>\n",
       "      <th>5</th>\n",
       "      <td>I like this brand because I have obtained some results. The other brand who name I will leave unmentioned did nothing for me. So I am familiar with what rasberry ketones should be doing for you. This one actually worked for me during my test of it. I did manage to lose some lbs and curb my appetite.  I could feel the metabolism burn.  With the other unnamed product I felt nothing.  Now the key is to help the pills work by not going out and eating double decker cheeseburgers and fries everyday!  These supplements enhance what you are doing to your body to lose weight. Use common sense and eat healthier diet and exercise if you can. You should get some positive results.</td>\n",
       "    </tr>\n",
       "    <tr>\n",
       "      <th>6</th>\n",
       "      <td>love it AA+</td>\n",
       "    </tr>\n",
       "    <tr>\n",
       "      <th>7</th>\n",
       "      <td>My appetite is definitely suppressed - my energy level is much better than it used to be and I am no longer reaching for more coffee in the afternoons - very happy with this supplement and it's additional powerful ingredients.  PLUS -- they smell delicious :)</td>\n",
       "    </tr>\n",
       "    <tr>\n",
       "      <th>8</th>\n",
       "      <td>I was drawn to this particular brand because of all the natural and super healthy ingredients it has. Also the price was very reasonable. I am looking forward to seeing great results from this product!</td>\n",
       "    </tr>\n",
       "    <tr>\n",
       "      <th>9</th>\n",
       "      <td>I was a little skeptical at first.  I tried it for a week and lost 5 lbs.  I didn't feel hungry, nervous or jittery.  Very happy with product.</td>\n",
       "    </tr>\n",
       "  </tbody>\n",
       "</table>\n",
       "</div>"
      ],
      "text/plain": [
       "  reviewText                                                                                                                                                                                                                                                                                                                                                                                                                                                                                                                                                                                                                                                                                           \n",
       "0                                                                                                                                                         If you are looking to detox and lose weight this is the product for you.  I and my son have been using it for three weeks now I have lost five pounds and he has lost about 8 pounds, it detoxs your body and curb your appetite. I am so happy with myself I feel more confident and looks better when I look in the mirror. I will recommend it to any one who has that stubborn weight and has tried everything, it works because it detoxify and curb the appetite at the same time, try it you have got nothing to lose but  the weight.\n",
       "1                                                                                                                                                                                                                                                                                                                                                                                                             When I need the help I turn to Vital and Strong Raspberry Ketones. Besides helping to curb my appetite these little beauties come in handy to give me an energy boost. I also like the fact that I don't have to live in the gym and sweat to death in order to lose a couple of pound's.\n",
       "2                                                                                                                                                                                                                                                                            First off, it should be said that this product needs to be used along with a balanced diet and exercise.  This is not a magic pill, that simply does not exist. That being said, I have noticed good results with this product. Less bloating and more of a toned stomach. I would definitely recommend this product. I have used other Vital & Strong too, and all of them have been great. Plus, the packaging is great.\n",
       "3                                                                                                                                                                                                                                                                                                                                                                                                                                                          Trying to drop a few pounds well then this is your product.  If you use this product with Garcinia Cambogia then you will get some amazing results.  I have a friend that has used both together and she has lost over 10 pounds in a month.\n",
       "4                                                                                                                                                                                                                                                                                                                                                                                                                                                                                                                                                                                  Easy to swallow...no side effects so far. Helps control appetite but still waiting on weight loss...may take longer.\n",
       "5  I like this brand because I have obtained some results. The other brand who name I will leave unmentioned did nothing for me. So I am familiar with what rasberry ketones should be doing for you. This one actually worked for me during my test of it. I did manage to lose some lbs and curb my appetite.  I could feel the metabolism burn.  With the other unnamed product I felt nothing.  Now the key is to help the pills work by not going out and eating double decker cheeseburgers and fries everyday!  These supplements enhance what you are doing to your body to lose weight. Use common sense and eat healthier diet and exercise if you can. You should get some positive results.\n",
       "6                                                                                                                                                                                                                                                                                                                                                                                                                                                                                                                                                                                                                                                                                           love it AA+\n",
       "7                                                                                                                                                                                                                                                                                                                                                                                                                                   My appetite is definitely suppressed - my energy level is much better than it used to be and I am no longer reaching for more coffee in the afternoons - very happy with this supplement and it's additional powerful ingredients.  PLUS -- they smell delicious :)\n",
       "8                                                                                                                                                                                                                                                                                                                                                                                                                                                                                             I was drawn to this particular brand because of all the natural and super healthy ingredients it has. Also the price was very reasonable. I am looking forward to seeing great results from this product!\n",
       "9                                                                                                                                                                                                                                                                                                                                                                                                                                                                                                                                                        I was a little skeptical at first.  I tried it for a week and lost 5 lbs.  I didn't feel hungry, nervous or jittery.  Very happy with product."
      ]
     },
     "execution_count": 114,
     "metadata": {},
     "output_type": "execute_result"
    }
   ],
   "source": [
    "# read text data from file\n",
    "df = pd.read_csv(\"test-data-filtered.csv\", usecols=['reviewText'])\n",
    "pd.set_option('display.width', 100)\n",
    "df.style.set_properties({'text-align': 'right'})\n",
    "df.head(10)"
   ]
  },
  {
   "cell_type": "code",
   "execution_count": 106,
   "metadata": {},
   "outputs": [
    {
     "data": {
      "text/html": [
       "<div>\n",
       "<style scoped>\n",
       "    .dataframe tbody tr th:only-of-type {\n",
       "        vertical-align: middle;\n",
       "    }\n",
       "\n",
       "    .dataframe tbody tr th {\n",
       "        vertical-align: top;\n",
       "    }\n",
       "\n",
       "    .dataframe thead th {\n",
       "        text-align: right;\n",
       "    }\n",
       "</style>\n",
       "<table border=\"1\" class=\"dataframe\">\n",
       "  <thead>\n",
       "    <tr style=\"text-align: left;\">\n",
       "      <th></th>\n",
       "      <th>reviewText</th>\n",
       "    </tr>\n",
       "  </thead>\n",
       "  <tbody>\n",
       "    <tr>\n",
       "      <th>0</th>\n",
       "      <td>If you are looking to detox and lose weight this is the product for you.  I and my son have been using it for three weeks now I have lost five pounds and he has lost about 8 pounds, it detoxs your body and curb your appetite. I am so happy with myself I feel more confident and looks better when I look in the mirror. I will recommend it to any one who has that stubborn weight and has tried everything, it works because it detoxify and curb the appetite at the same time, try it you have got nothing to lose but  the weight.</td>\n",
       "    </tr>\n",
       "    <tr>\n",
       "      <th>13</th>\n",
       "      <td>Wrong info. Didn't purchase, just couldn't find a way to report wrong info.</td>\n",
       "    </tr>\n",
       "    <tr>\n",
       "      <th>99</th>\n",
       "      <td>Fake!</td>\n",
       "    </tr>\n",
       "  </tbody>\n",
       "</table>\n",
       "</div>"
      ],
      "text/plain": [
       "   reviewText                                                                                                                                                                                                                                                                                                                                                                                                                                                                                                                                    \n",
       "0   If you are looking to detox and lose weight this is the product for you.  I and my son have been using it for three weeks now I have lost five pounds and he has lost about 8 pounds, it detoxs your body and curb your appetite. I am so happy with myself I feel more confident and looks better when I look in the mirror. I will recommend it to any one who has that stubborn weight and has tried everything, it works because it detoxify and curb the appetite at the same time, try it you have got nothing to lose but  the weight.\n",
       "13                                                                                                                                                                                                                                                                                                                                                                                                                                                                    Wrong info. Didn't purchase, just couldn't find a way to report wrong info.\n",
       "99                                                                                                                                                                                                                                                                                                                                                                                                                                                                                                                                          Fake!"
      ]
     },
     "execution_count": 106,
     "metadata": {},
     "output_type": "execute_result"
    }
   ],
   "source": [
    "# 13 and 99 are negative reviews\n",
    "df.iloc[[0,13,99]]"
   ]
  },
  {
   "cell_type": "code",
   "execution_count": 90,
   "metadata": {},
   "outputs": [],
   "source": [
    "from IPython.display import Markdown, display\n",
    "from IPython.core.display import HTML\n",
    "\n",
    "def printmd(string, color=None):\n",
    "    # colorstr = \"<span style='color:{}'>{}</span>\".format(color, string)\n",
    "    display(Markdown(string))\n",
    "\n"
   ]
  },
  {
   "cell_type": "markdown",
   "metadata": {},
   "source": [
    "### Testing with real world data for positive feedback - Yelp Review"
   ]
  },
  {
   "cell_type": "code",
   "execution_count": 51,
   "metadata": {},
   "outputs": [],
   "source": [
    "# positive review text\n",
    "positiveReview = [\"\"\"\n",
    "\n",
    "I m pleasantly surprised by Blue Shield. I purchased my individual plan through Covered CA \n",
    "expecting the worst (after reading all these terrible reviews) but dealing with Blue Shield \n",
    "has not been bad at all! My only complaints about it are that it is very very expensive and \n",
    "I have higher copays and out of pocket expenses than I would like, but that is a commonality \n",
    "among all health insurance in the marketplace so I can not blame that on Blue Shield. I also \n",
    "wish there were more providers in- network.\n",
    "\n",
    "\"\"\"]"
   ]
  },
  {
   "cell_type": "code",
   "execution_count": 91,
   "metadata": {},
   "outputs": [
    {
     "data": {
      "text/markdown": [
       "# Your feedback is positive"
      ],
      "text/plain": [
       "<IPython.core.display.Markdown object>"
      ]
     },
     "metadata": {},
     "output_type": "display_data"
    }
   ],
   "source": [
    "test_vector = vectorizer.transform(positiveReview)\n",
    "actualPredict = model.predict(test_vector)\n",
    "if actualPredict == 1:\n",
    "    printmd(\"# Your feedback is positive\")\n",
    "    \n",
    "else:\n",
    "     printmd('**Your feedback is negative**')"
   ]
  },
  {
   "cell_type": "markdown",
   "metadata": {},
   "source": [
    "### Testing with real world data for negative feedback - Yelp Review"
   ]
  },
  {
   "cell_type": "code",
   "execution_count": 94,
   "metadata": {},
   "outputs": [],
   "source": [
    "# transformed \n",
    "negativeReview = [\"\"\"\n",
    "\n",
    "The worst customer service period, answering service located somewhere in Asia. \n",
    "Charged me the wrong premiums for too long.\n",
    "\n",
    "\"\"\"]\n"
   ]
  },
  {
   "cell_type": "code",
   "execution_count": 98,
   "metadata": {},
   "outputs": [
    {
     "data": {
      "text/markdown": [
       "# Your feedback is negative"
      ],
      "text/plain": [
       "<IPython.core.display.Markdown object>"
      ]
     },
     "metadata": {},
     "output_type": "display_data"
    }
   ],
   "source": [
    "test_vector = vectorizer.transform(negativeReview)\n",
    "actualPredict = model.predict(test_vector)\n",
    "if actualPredict == 0:\n",
    "    printmd('# Your feedback is negative')\n",
    "else:\n",
    "    printmd('**Your feedback is positive**')"
   ]
  },
  {
   "cell_type": "code",
   "execution_count": null,
   "metadata": {},
   "outputs": [],
   "source": []
  },
  {
   "cell_type": "code",
   "execution_count": null,
   "metadata": {},
   "outputs": [],
   "source": []
  }
 ],
 "metadata": {
  "kernelspec": {
   "display_name": "Python 3",
   "language": "python",
   "name": "python3"
  },
  "language_info": {
   "codemirror_mode": {
    "name": "ipython",
    "version": 3
   },
   "file_extension": ".py",
   "mimetype": "text/x-python",
   "name": "python",
   "nbconvert_exporter": "python",
   "pygments_lexer": "ipython3",
   "version": "3.7.0"
  }
 },
 "nbformat": 4,
 "nbformat_minor": 2
}
