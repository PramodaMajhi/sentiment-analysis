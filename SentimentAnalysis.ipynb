{
 "cells": [
  {
   "cell_type": "code",
   "execution_count": 82,
   "metadata": {},
   "outputs": [],
   "source": [
    "import pandas as pd\n",
    "from sklearn.model_selection import train_test_split\n",
    "from sklearn.feature_extraction.text import TfidfVectorizer\n",
    "from sklearn.linear_model import LogisticRegression\n",
    "from sklearn.metrics import accuracy_score\n",
    "from sklearn.metrics import confusion_matrix\n",
    "from sklearn.metrics import classification_report\n",
    "from sklearn.feature_extraction.text import CountVectorizer\n",
    "from sklearn import svm\n",
    "from sklearn.svm import LinearSVC\n",
    "from sklearn.naive_bayes import GaussianNB\n",
    "from sklearn import tree\n",
    "from sklearn.ensemble import RandomForestClassifier\n",
    "from sklearn.ensemble import GradientBoostingClassifier\n",
    "import numpy as np\n",
    "import matplotlib.pyplot as plt\n",
    "\n",
    "\n"
   ]
  },
  {
   "cell_type": "markdown",
   "metadata": {},
   "source": [
    "## Loading Dataset\n",
    "The dataset that we are going to use for this \"Amazon\" product review. The dataset consits of of total #346355 the documents contain positive and negative reviews regarding the product. further details regarding dataset can be found to be at http://snap.stanford.edu/data/amazon/productGraph/categoryFiles/reviews_Health_and_Personal_Care.json.gz  \n"
   ]
  },
  {
   "cell_type": "code",
   "execution_count": 31,
   "metadata": {},
   "outputs": [
    {
     "data": {
      "text/plain": [
       "(1000, 10)"
      ]
     },
     "execution_count": 31,
     "metadata": {},
     "output_type": "execute_result"
    }
   ],
   "source": [
    "df = pd.read_csv(\"Output.csv\", sep='\\t', error_bad_lines= False, nrows=1000)\n",
    "# df = pd.read_csv(\"Output.csv\", sep='\\t', error_bad_lines= False)\n",
    "df.shape"
   ]
  },
  {
   "cell_type": "markdown",
   "metadata": {},
   "source": [
    "Making an additional column to decide \"Positive or Nagative\" review based ob the score"
   ]
  },
  {
   "cell_type": "code",
   "execution_count": 32,
   "metadata": {},
   "outputs": [
    {
     "data": {
      "text/html": [
       "<div>\n",
       "<style scoped>\n",
       "    .dataframe tbody tr th:only-of-type {\n",
       "        vertical-align: middle;\n",
       "    }\n",
       "\n",
       "    .dataframe tbody tr th {\n",
       "        vertical-align: top;\n",
       "    }\n",
       "\n",
       "    .dataframe thead th {\n",
       "        text-align: right;\n",
       "    }\n",
       "</style>\n",
       "<table border=\"1\" class=\"dataframe\">\n",
       "  <thead>\n",
       "    <tr style=\"text-align: right;\">\n",
       "      <th></th>\n",
       "      <th>Unnamed: 0</th>\n",
       "      <th>asin</th>\n",
       "      <th>helpful</th>\n",
       "      <th>overall</th>\n",
       "      <th>reviewText</th>\n",
       "      <th>reviewTime</th>\n",
       "      <th>reviewerID</th>\n",
       "      <th>reviewerName</th>\n",
       "      <th>summary</th>\n",
       "      <th>unixReviewTime</th>\n",
       "      <th>review_class</th>\n",
       "    </tr>\n",
       "  </thead>\n",
       "  <tbody>\n",
       "    <tr>\n",
       "      <th>0</th>\n",
       "      <td>0</td>\n",
       "      <td>159985130X</td>\n",
       "      <td>[1, 1]</td>\n",
       "      <td>5.0</td>\n",
       "      <td>This is a great little gadget to have around. ...</td>\n",
       "      <td>01 5, 2011</td>\n",
       "      <td>ALC5GH8CAMAI7</td>\n",
       "      <td>AnnN</td>\n",
       "      <td>Handy little gadget</td>\n",
       "      <td>1294185600</td>\n",
       "      <td>1</td>\n",
       "    </tr>\n",
       "    <tr>\n",
       "      <th>1</th>\n",
       "      <td>1</td>\n",
       "      <td>159985130X</td>\n",
       "      <td>[1, 1]</td>\n",
       "      <td>4.0</td>\n",
       "      <td>I would recommend this for a travel magnifier ...</td>\n",
       "      <td>02 18, 2012</td>\n",
       "      <td>AHKSURW85PJUE</td>\n",
       "      <td>AZ buyer \"AZ buyer\"</td>\n",
       "      <td>Small &amp; may need to encourage battery</td>\n",
       "      <td>1329523200</td>\n",
       "      <td>1</td>\n",
       "    </tr>\n",
       "  </tbody>\n",
       "</table>\n",
       "</div>"
      ],
      "text/plain": [
       "   Unnamed: 0        asin helpful  overall  \\\n",
       "0           0  159985130X  [1, 1]      5.0   \n",
       "1           1  159985130X  [1, 1]      4.0   \n",
       "\n",
       "                                          reviewText   reviewTime  \\\n",
       "0  This is a great little gadget to have around. ...   01 5, 2011   \n",
       "1  I would recommend this for a travel magnifier ...  02 18, 2012   \n",
       "\n",
       "      reviewerID         reviewerName                                summary  \\\n",
       "0  ALC5GH8CAMAI7                 AnnN                    Handy little gadget   \n",
       "1  AHKSURW85PJUE  AZ buyer \"AZ buyer\"  Small & may need to encourage battery   \n",
       "\n",
       "   unixReviewTime  review_class  \n",
       "0      1294185600             1  \n",
       "1      1329523200             1  "
      ]
     },
     "execution_count": 32,
     "metadata": {},
     "output_type": "execute_result"
    }
   ],
   "source": [
    "df['review_class'] = [1 if x > 3 else 0 for x in df.overall]\n",
    "df.head(2)"
   ]
  },
  {
   "cell_type": "markdown",
   "metadata": {},
   "source": [
    "## Training and Testing Sets \n",
    "Like any other supervised machine learning problems, we need to divide out data into training and testing sets, to do so we used the train_test_split utility from the sklearn.model_selection library\n",
    "\n",
    "### Finding TFID\n",
    "\n",
    "Mulitplying the term frequency of a word by the inverse document frequency. The TF stands for \"Term frequency\" while IDF stand for \"Invers Document Frequency\" The ft-idf value increases proportionally to the number of documents in word appears in the document.\n",
    "\n",
    "The term frequency is calculated as:\n",
    "\n",
    "Term frequency = (Number of Occurrences of a word)/(Total words in the document)  \n",
    "\n",
    "And the Inverse Document Frequency is calculated as:\n",
    "\n",
    "IDF(word) = Log((Total number of documents)/(Number of documents containing the word))  \n",
    "\n",
    "\n",
    "## Training Text Classification Model and Predicting Sentiment\n",
    "\n",
    "We have divided our data into training and testing set. Now is the time to see real actio, we will use logisticRegression  from sklearn. The fit method of this class used to train the algorithm. we need to pass trainign and training target sets tho this method.\n",
    "Finally, to predict the sentiment for the documents in our text set we can use predict()"
   ]
  },
  {
   "cell_type": "code",
   "execution_count": 53,
   "metadata": {},
   "outputs": [
    {
     "name": "stdout",
     "output_type": "stream",
     "text": [
      "x_train shape: (800,)\n",
      "y_train shape: (800,)\n",
      "\n",
      "x_test shape: (200,)\n",
      "y_test shape: (200,)\n",
      "\n",
      "Accuracy score: 0.89\n",
      " [[  0  22]\n",
      " [  0 178]]\n",
      "               precision    recall  f1-score   support\n",
      "\n",
      "           0       0.00      0.00      0.00        22\n",
      "           1       0.89      1.00      0.94       178\n",
      "\n",
      "   micro avg       0.89      0.89      0.89       200\n",
      "   macro avg       0.45      0.50      0.47       200\n",
      "weighted avg       0.79      0.89      0.84       200\n",
      "\n"
     ]
    },
    {
     "data": {
      "image/png": "[encoded data removed]",
      "text/plain": [
       "<Figure size 1080x576 with 1 Axes>"
      ]
     },
     "metadata": {
      "needs_background": "light"
     },
     "output_type": "display_data"
    }
   ],
   "source": [
    "x_train, x_test, y_train, y_test = train_test_split(df.reviewText, df.review_class, test_size=0.2, random_state=0)\n",
    " \n",
    "print(\"x_train shape: {}\".format(x_train.shape), end='\\n')\n",
    "print(\"y_train shape: {}\".format(y_train.shape), end='\\n\\n')\n",
    "print(\"x_test shape: {}\".format(x_test.shape), end='\\n')\n",
    "print(\"y_test shape: {}\".format(y_test.shape), end='\\n\\n')\n",
    "\n",
    "\n",
    "# Convert a collection of raw documents to a matrix\n",
    "vectorizer = TfidfVectorizer(decode_error='replace', encoding='utf-8')\n",
    "# Learn vocabulary and idf from training set.\n",
    "x_train_tv = vectorizer.fit(x_train.values.astype('U'))\n",
    "# Learn vocabulary and idf, return term-document matrix. Uses the vocabulary and document frequencies (df) learned by fit.\n",
    "x_train_tv = vectorizer.transform(x_train.values.astype('U'))\n",
    "x_test_tv = vectorizer.transform(x_test.values.astype('U'))\n",
    "\n",
    "# training algorithm \n",
    "# model = GaussianNB()\n",
    "model = LogisticRegression()\n",
    "# model = svm.SVC()\n",
    "# model = LinearSVC() # 0.87\n",
    "# model = tree.DecisionTreeClassifier()\n",
    "# model = RandomForestClassifier() # 0.82\n",
    "# model = GradientBoostingClassifier() # 0.83\n",
    "# Fit the model according to the given training data.\n",
    "# Training vector, where n_samples is the number of samples and n_features is the number of features.\n",
    "model.fit(x_train_tv,y_train)\n",
    "# Predict class labels for samples in X.\n",
    "y_predict = model.predict(x_test_tv)\n",
    "# Accuracy classification score\n",
    "cv_score = accuracy_score(y_test,y_predict)\n",
    "# Plotting the graph\n",
    "results = {'Model':['LogisticRegression'],\n",
    "           'TfidfVectorizer':[cv_score]\n",
    "         }\n",
    " \n",
    "    \n",
    "results_df = pd.DataFrame(results)\n",
    "results_df.plot.bar(ylim=(0.60,1.0), figsize=(15,8), align='center', colormap=\"Oranges_r\")\n",
    "plt.xticks(np.arange(5), results_df.Model)\n",
    "\n",
    "# printing the out of the score\n",
    "print('Accuracy score:', cv_score) \n",
    "\n",
    "\n",
    "\n"
   ]
  },
  {
   "cell_type": "markdown",
   "metadata": {},
   "source": [
    "## Plotting the Graph\n",
    "\n",
    "We used sklearn library to plot score graph against the algorithm\n"
   ]
  },
  {
   "cell_type": "markdown",
   "metadata": {},
   "source": [
    "## Report\n",
    "#### Consufion Matrix\n",
    "A confusion matrix is a table that is often used to describe the performance of a classification model (or \"classifier\")\n",
    "with two rows and two columns that report the number of **false positive** and **false negative**\n",
    "\n",
    "Each row of the Matrix represents the instances in a predicted class while each column represents the instances in an actual class"
   ]
  },
  {
   "cell_type": "code",
   "execution_count": 76,
   "metadata": {},
   "outputs": [
    {
     "name": "stdout",
     "output_type": "stream",
     "text": [
      " [[  0  22]\n",
      " [  0 178]]\n"
     ]
    },
    {
     "data": {
      "image/png": "[encoded data removed]",
      "text/plain": [
       "<Figure size 432x288 with 2 Axes>"
      ]
     },
     "metadata": {
      "needs_background": "light"
     },
     "output_type": "display_data"
    },
    {
     "name": "stdout",
     "output_type": "stream",
     "text": [
      "               precision    recall  f1-score   support\n",
      "\n",
      "           0       0.00      0.00      0.00        22\n",
      "           1       0.89      1.00      0.94       178\n",
      "\n",
      "   micro avg       0.89      0.89      0.89       200\n",
      "   macro avg       0.45      0.50      0.47       200\n",
      "weighted avg       0.79      0.89      0.84       200\n",
      "\n"
     ]
    }
   ],
   "source": [
    "cm = confusion_matrix(y_test, y_predict)\n",
    "print('',cm)\n",
    "fig = plt.figure()\n",
    "ax = fig.add_subplot(111)\n",
    "cax = ax.matshow(cm)\n",
    "plt.title('Confusion matrix of the classifier')\n",
    "fig.colorbar(cax)\n",
    "plt.xlabel('Predicted')\n",
    "plt.ylabel('Actual')\n",
    "plt.show()\n"
   ]
  },
  {
   "cell_type": "code",
   "execution_count": 83,
   "metadata": {},
   "outputs": [
    {
     "name": "stdout",
     "output_type": "stream",
     "text": [
      "               precision    recall  f1-score   support\n",
      "\n",
      "           0       0.00      0.00      0.00        22\n",
      "           1       0.89      1.00      0.94       178\n",
      "\n",
      "   micro avg       0.89      0.89      0.89       200\n",
      "   macro avg       0.45      0.50      0.47       200\n",
      "weighted avg       0.79      0.89      0.84       200\n",
      "\n"
     ]
    }
   ],
   "source": [
    "\n",
    "print('', classification_report(y_test, y_predict))"
   ]
  },
  {
   "cell_type": "markdown",
   "metadata": {},
   "source": [
    "Nos let's set up our neural network model considering how complicated LSTM recurrecnt neurral network in under the hood, its really amaxing how easy this it to do with Keras.\n",
    "\n",
    "We will start with Embedding layer- this just a step that converts the input data into dense vectors of fixed soze that's nbetter suited for neural network. \n",
    "\n",
    "Next we just have to set up LSTM layer for the RSS itself. It's tjat easy. We specify 128 to match the output size of the Embedding layer, and dropout items to avoid overfitting, which RNN's are particular prone to.\n",
    "\n",
    "Finally, we just need to boild it donw to single neuron with sigmoid activation function to choose our binary sentiment classification of 0 or 1"
   ]
  },
  {
   "cell_type": "code",
   "execution_count": 84,
   "metadata": {},
   "outputs": [
    {
     "name": "stderr",
     "output_type": "stream",
     "text": [
      "Using TensorFlow backend.\n"
     ]
    }
   ],
   "source": [
    "from keras.models import Sequential\n",
    "from keras.layers import Dense, Embedding\n",
    "from keras.layers import LSTM\n",
    "\n",
    "\n",
    "model = Sequential()\n",
    "model.add(Embedding(1000, 128))\n",
    "model.add(LSTM(128, dropout = 0.2, recurrent_dropout=0.2))\n",
    "model.add(Dense(1, activation='sigmoid'))"
   ]
  },
  {
   "cell_type": "markdown",
   "metadata": {},
   "source": [
    "As this is binary classification problem, we'll use binary_crossentropy loss function adn the Adam optimizer is usually good choice(feel fre to try others)"
   ]
  },
  {
   "cell_type": "code",
   "execution_count": 85,
   "metadata": {},
   "outputs": [],
   "source": [
    "model.compile(loss='binary_crossentropy', optimizer='adam', metrics=['accuracy'])"
   ]
  },
  {
   "cell_type": "markdown",
   "metadata": {},
   "source": [
    "Now we will actually train model. RNN's like CNN's, are very resource heavy. Keepi g the batch size relatively small is the key enabling this run on your PC at all. In the real word of course. you'd be taking advantange of GPU's installed across many computers on cluster to make this scale a lot better."
   ]
  },
  {
   "cell_type": "markdown",
   "metadata": {},
   "source": [
    "## Warning\n",
    "\n",
    "This will take a very long time to run, even on fast PC. Don't execute the next blocks unless you're prepared to tie up computer for an housr or more"
   ]
  },
  {
   "cell_type": "code",
   "execution_count": null,
   "metadata": {},
   "outputs": [
    {
     "name": "stdout",
     "output_type": "stream",
     "text": [
      "Train on 800 samples, validate on 200 samples\n",
      "Epoch 1/15\n"
     ]
    }
   ],
   "source": [
    "model.fit(x_train_tv, y_train, batch_size=32, epochs=15, verbose=2, validation_data=(x_test, y_test))"
   ]
  },
  {
   "cell_type": "code",
   "execution_count": null,
   "metadata": {},
   "outputs": [],
   "source": [
    "score, acc = model.evaluate(x_test, y_test, batch_size=32, verbose=2)\n",
    "\n",
    "print('Test score:', score)\n",
    "print('Test accuracy', acc)"
   ]
  },
  {
   "cell_type": "markdown",
   "metadata": {},
   "source": [
    "## Testing"
   ]
  },
  {
   "cell_type": "code",
   "execution_count": 23,
   "metadata": {},
   "outputs": [],
   "source": [
    "# read text data from file\n",
    "df = pd.read_csv(\"test-data-filtered.csv\")"
   ]
  },
  {
   "cell_type": "code",
   "execution_count": 24,
   "metadata": {},
   "outputs": [
    {
     "data": {
      "text/plain": [
       "array([1, 1, 1, 1, 1, 1, 1, 1, 1, 1, 1, 1, 1, 0, 1, 1, 1, 1, 1, 1, 1, 1,\n",
       "       1, 1, 1, 1, 1, 1, 1, 1, 1, 1, 1, 1, 1, 1, 1, 1, 1, 1, 1, 1, 1, 1,\n",
       "       1, 1, 1, 1, 1, 1, 1, 1, 1, 1, 1, 1, 1, 1, 1, 1, 1, 1, 1, 1, 1, 1,\n",
       "       1, 1, 1, 1, 1, 1, 1, 1, 1, 1, 1, 1, 1, 1, 1, 1, 1, 1, 1, 1, 1, 1,\n",
       "       1, 1, 1, 1, 1, 1, 1, 1, 1, 1, 1, 0])"
      ]
     },
     "execution_count": 24,
     "metadata": {},
     "output_type": "execute_result"
    }
   ],
   "source": [
    "# transformed \n",
    "test_vector = vectorizer.transform(df.reviewText.values.astype('U'))\n",
    "actualPredict = model.predict(test_vector)\n",
    "actualPredict"
   ]
  },
  {
   "cell_type": "code",
   "execution_count": null,
   "metadata": {},
   "outputs": [],
   "source": []
  }
 ],
 "metadata": {
  "kernelspec": {
   "display_name": "Python 3",
   "language": "python",
   "name": "python3"
  },
  "language_info": {
   "codemirror_mode": {
    "name": "ipython",
    "version": 3
   },
   "file_extension": ".py",
   "mimetype": "text/x-python",
   "name": "python",
   "nbconvert_exporter": "python",
   "pygments_lexer": "ipython3",
   "version": "3.6.6"
  }
 },
 "nbformat": 4,
 "nbformat_minor": 2
}
