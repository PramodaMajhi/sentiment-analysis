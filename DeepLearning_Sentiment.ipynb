{
 "cells": [
  {
   "cell_type": "markdown",
   "metadata": {},
   "source": [
    "# Stage 1: Business Understanding\n",
    "\n",
    "Business use case is about building a predictive model that can predict the positive or negative sentiment for customer based on their feedback.\n"
   ]
  },
  {
   "cell_type": "code",
   "execution_count": 6,
   "metadata": {},
   "outputs": [],
   "source": [
    "import pandas as pd\n",
    "import seaborn as sns\n",
    "from sklearn.model_selection import train_test_split\n",
    "from sklearn.feature_extraction.text import TfidfVectorizer\n",
    "from sklearn.linear_model import LogisticRegression\n",
    "from sklearn.metrics import accuracy_score\n",
    "from sklearn.metrics import confusion_matrix\n",
    "from sklearn.metrics import classification_report\n",
    "from sklearn.metrics import roc_curve, auc, roc_auc_score\n",
    "from sklearn.metrics import precision_recall_fscore_support\n",
    "from sklearn.feature_extraction.text import CountVectorizer\n",
    "from sklearn import svm\n",
    "from sklearn.svm import LinearSVC\n",
    "from sklearn.naive_bayes import GaussianNB\n",
    "from sklearn import tree\n",
    "from sklearn.ensemble import RandomForestClassifier\n",
    "from sklearn.ensemble import GradientBoostingClassifier\n",
    "import numpy as np\n",
    "import matplotlib.pyplot as plt\n",
    "from keras.models import Sequential\n",
    "from keras.layers import Dense, Embedding\n",
    "%matplotlib inline\n"
   ]
  },
  {
   "cell_type": "markdown",
   "metadata": {},
   "source": [
    "# Stage 2: Data Understanding\n",
    "\n",
    "The dataset that we are going to use for this \"Amazon\" product review. The dataset consits of of total #346355 the documents contain positive and negative reviews regarding the product. further details regarding dataset can be found to be at http://snap.stanford.edu/data/amazon/productGraph/categoryFiles/reviews_Health_and_Personal_Care.json.gz\n",
    "\n",
    "**Prerequisite:** I am using Anaconda, to install Tensorflow, and Keras libraries\n",
    "\n",
    "**Step 1:** Importing data. Pandas DataFrame gives massive functionality to work on data thus, here we are using pandas to import data."
   ]
  },
  {
   "cell_type": "code",
   "execution_count": 7,
   "metadata": {},
   "outputs": [
    {
     "data": {
      "text/plain": [
       "(346355, 10)"
      ]
     },
     "execution_count": 7,
     "metadata": {},
     "output_type": "execute_result"
    }
   ],
   "source": [
    "# df = pd.read_csv(\"Output.csv\", sep='\\t', error_bad_lines= False, nrows=1000) # testing for purpose only\n",
    "df = pd.read_csv(\"Output.csv\", sep='\\t', error_bad_lines= False)\n",
    "df.shape\n",
    "\n"
   ]
  },
  {
   "cell_type": "markdown",
   "metadata": {},
   "source": [
    "# Stage 3: Data Preparation\n",
    "\n",
    "Making an additional column to decide \"Positive or Nagative\" review based ob the score"
   ]
  },
  {
   "cell_type": "code",
   "execution_count": 8,
   "metadata": {},
   "outputs": [
    {
     "data": {
      "text/html": [
       "<div>\n",
       "<style scoped>\n",
       "    .dataframe tbody tr th:only-of-type {\n",
       "        vertical-align: middle;\n",
       "    }\n",
       "\n",
       "    .dataframe tbody tr th {\n",
       "        vertical-align: top;\n",
       "    }\n",
       "\n",
       "    .dataframe thead th {\n",
       "        text-align: right;\n",
       "    }\n",
       "</style>\n",
       "<table border=\"1\" class=\"dataframe\">\n",
       "  <thead>\n",
       "    <tr style=\"text-align: right;\">\n",
       "      <th></th>\n",
       "      <th>Unnamed: 0</th>\n",
       "      <th>asin</th>\n",
       "      <th>helpful</th>\n",
       "      <th>overall</th>\n",
       "      <th>reviewText</th>\n",
       "      <th>reviewTime</th>\n",
       "      <th>reviewerID</th>\n",
       "      <th>reviewerName</th>\n",
       "      <th>summary</th>\n",
       "      <th>unixReviewTime</th>\n",
       "      <th>review_class</th>\n",
       "    </tr>\n",
       "  </thead>\n",
       "  <tbody>\n",
       "    <tr>\n",
       "      <th>0</th>\n",
       "      <td>0</td>\n",
       "      <td>159985130X</td>\n",
       "      <td>[1, 1]</td>\n",
       "      <td>5.0</td>\n",
       "      <td>This is a great little gadget to have around. ...</td>\n",
       "      <td>01 5, 2011</td>\n",
       "      <td>ALC5GH8CAMAI7</td>\n",
       "      <td>AnnN</td>\n",
       "      <td>Handy little gadget</td>\n",
       "      <td>1294185600</td>\n",
       "      <td>1</td>\n",
       "    </tr>\n",
       "    <tr>\n",
       "      <th>1</th>\n",
       "      <td>1</td>\n",
       "      <td>159985130X</td>\n",
       "      <td>[1, 1]</td>\n",
       "      <td>4.0</td>\n",
       "      <td>I would recommend this for a travel magnifier ...</td>\n",
       "      <td>02 18, 2012</td>\n",
       "      <td>AHKSURW85PJUE</td>\n",
       "      <td>AZ buyer \"AZ buyer\"</td>\n",
       "      <td>Small &amp; may need to encourage battery</td>\n",
       "      <td>1329523200</td>\n",
       "      <td>1</td>\n",
       "    </tr>\n",
       "  </tbody>\n",
       "</table>\n",
       "</div>"
      ],
      "text/plain": [
       "   Unnamed: 0        asin helpful  overall  \\\n",
       "0           0  159985130X  [1, 1]      5.0   \n",
       "1           1  159985130X  [1, 1]      4.0   \n",
       "\n",
       "                                          reviewText   reviewTime  \\\n",
       "0  This is a great little gadget to have around. ...   01 5, 2011   \n",
       "1  I would recommend this for a travel magnifier ...  02 18, 2012   \n",
       "\n",
       "      reviewerID         reviewerName                                summary  \\\n",
       "0  ALC5GH8CAMAI7                 AnnN                    Handy little gadget   \n",
       "1  AHKSURW85PJUE  AZ buyer \"AZ buyer\"  Small & may need to encourage battery   \n",
       "\n",
       "   unixReviewTime  review_class  \n",
       "0      1294185600             1  \n",
       "1      1329523200             1  "
      ]
     },
     "execution_count": 8,
     "metadata": {},
     "output_type": "execute_result"
    }
   ],
   "source": [
    "df['review_class'] = [1 if x > 3 else 0 for x in df.overall]\n",
    "df.head(2)\n",
    "\n"
   ]
  },
  {
   "cell_type": "markdown",
   "metadata": {},
   "source": [
    "# Stage 4: Modeling\n",
    "\n",
    "#### Training and Testing Sets \n",
    "Like any other supervised machine learning problems, we need to divide out data into training and testing sets, to do so we used the train_test_split utility from the sklearn.model_selection library\n",
    "\n",
    "#### Finding TFID\n",
    "\n",
    "Mulitplying the term frequency of a word by the inverse document frequency. The TF stands for \"Term frequency\" while IDF stand for \"Inverse Document Frequency\" The ft-idf value increases proportionally to the number of documents in word appears in the document.\n",
    "\n",
    "The term frequency is calculated as:\n",
    "\n",
    "Term frequency = (Number of Occurrences of a word)/(Total words in the document)  \n",
    "\n",
    "And the Inverse Document Frequency is calculated as:\n",
    "\n",
    "IDF(word) = Log((Total number of documents)/(Number of documents containing the word))  \n",
    "\n",
    "\n",
    "#### Training Text Classification Model and Predicting Sentiment\n",
    "\n",
    "In Machine Learning, we always divide our data into training and testing part meaning that we train our model on training data and then we check the accuracy of a model on testing data. Testing your model on testing data will only help you evaluate the efficiency of model."
   ]
  },
  {
   "cell_type": "code",
   "execution_count": 9,
   "metadata": {},
   "outputs": [
    {
     "name": "stdout",
     "output_type": "stream",
     "text": [
      "x_train shape: (242448,)\n",
      "y_train shape: (242448,)\n",
      "\n",
      "x_test shape: (103907,)\n",
      "y_test shape: (103907,)\n",
      "\n"
     ]
    }
   ],
   "source": [
    "x_train, x_test, y_train, y_test = train_test_split(df.reviewText, df.review_class, test_size=0.3, random_state=0)\n",
    " \n",
    "print(\"x_train shape: {}\".format(x_train.shape), end='\\n')\n",
    "print(\"y_train shape: {}\".format(y_train.shape), end='\\n\\n')\n",
    "print(\"x_test shape: {}\".format(x_test.shape), end='\\n')\n",
    "print(\"y_test shape: {}\".format(y_test.shape), end='\\n\\n')\n",
    "\n",
    "\n",
    "# Convert a collection of raw documents to a matrix\n",
    "vectorizer = TfidfVectorizer(decode_error='replace', encoding='utf-8', max_features=10000)\n",
    "# Learn vocabulary and idf from training set.\n",
    "vectorizer.fit(x_train.values.astype('U'))\n",
    "# Learn vocabulary and idf, return term-document matrix. \n",
    "# Uses the vocabulary and document frequencies (df) learned by fit.\n",
    "x_train_tv = vectorizer.transform(x_train.values.astype('U'))\n",
    "x_test_tv = vectorizer.transform(x_test.values.astype('U'))\n"
   ]
  },
  {
   "cell_type": "markdown",
   "metadata": {},
   "source": [
    "Importing required Modules. We need Sequential module for initializing NN and dense module to add Hidden Layers.\n",
    "name of model as Classifier as our business problem is find the sentiment of customer based on the feedback\n",
    "\n",
    "Adding multiple hidden layer will take bit effort. We will add hidden layers one by one using dense function. In the below code you will see a lot of arguments\n",
    "\n",
    "**output_dim.** It is simply the number of nodes you want to add to this layer. init is the initialization of Stochastic Gradient Decent. In Neural Network we need to assign weights to each mode which is nothing but importance of that node. At the time of initialization, weights should be close to 0 and we will randomly initialize weights using uniform function. \n",
    "**input_dim** parameter is needed only for first layer as model doesn’t know the number of our input variables, in our case **\"10,000\"**, In the second layer model automatically knows the number of input variable from the first hidden layer.\n",
    "\n",
    "**Activation Function:** Very important to understand. Neuron applies activation function to weighted sum(summation of Wi * Xi where w is weight, X is input variable and i is suffix of W and X).\n",
    "\n",
    "Sigmoid function in our output layer as we want binary result"
   ]
  },
  {
   "cell_type": "code",
   "execution_count": 7,
   "metadata": {},
   "outputs": [],
   "source": [
    "# Initializing Neural Network\n",
    "model = Sequential()\n",
    "model.add(Dense(units=6, kernel_initializer=\"uniform\", activation='relu', input_dim=10000))\n",
    "model.add(Dense(units=6, kernel_initializer=\"uniform\", activation='relu'))\n",
    "model.add(Dense(units=1, kernel_initializer=\"uniform\", activation='sigmoid'))\n",
    "\n"
   ]
  },
  {
   "cell_type": "markdown",
   "metadata": {},
   "source": [
    "Added multiple layers to out classifier now let’s compile them which can be done using compile method.\n",
    "\n",
    "**Optimizer**, this is nothing but the algorithm you wanna use to find optimal set of weights\n",
    "\n",
    "As this is binary classification problem, we'll use binary_crossentropy loss function and the Adam optimizer is usually good choice(feel fre to try others)\n",
    "\n",
    "We want to improve performance of our neural network based on accuracy so add **metrics** as accuracy"
   ]
  },
  {
   "cell_type": "code",
   "execution_count": 8,
   "metadata": {},
   "outputs": [],
   "source": [
    "model.compile(loss='binary_crossentropy', optimizer='adam', metrics=['accuracy'])\n"
   ]
  },
  {
   "cell_type": "markdown",
   "metadata": {},
   "source": [
    "fit() to the fit our model **Batch size** is used to specify the number of observation after which you want to update weight. \n",
    "\n",
    "**Epoch** is nothing but the total number of iterations. Choosing the value of batch size and epoch is trial and error there is no specific rule for that."
   ]
  },
  {
   "cell_type": "code",
   "execution_count": 9,
   "metadata": {},
   "outputs": [
    {
     "name": "stdout",
     "output_type": "stream",
     "text": [
      "Train on 169713 samples, validate on 72735 samples\n",
      "Epoch 1/10\n",
      "169713/169713 [==============================] - 58s 341us/step - loss: 0.4060 - acc: 0.8295 - val_loss: 0.3028 - val_acc: 0.8692\n",
      "Epoch 2/10\n",
      "169713/169713 [==============================] - 57s 333us/step - loss: 0.2867 - acc: 0.8778 - val_loss: 0.2974 - val_acc: 0.8730\n",
      "Epoch 3/10\n",
      "169713/169713 [==============================] - 57s 333us/step - loss: 0.2753 - acc: 0.8834 - val_loss: 0.2985 - val_acc: 0.8728\n",
      "Epoch 4/10\n",
      "169713/169713 [==============================] - 57s 333us/step - loss: 0.2696 - acc: 0.8863 - val_loss: 0.3009 - val_acc: 0.8725\n",
      "Epoch 5/10\n",
      "169713/169713 [==============================] - 56s 333us/step - loss: 0.2649 - acc: 0.8880 - val_loss: 0.3017 - val_acc: 0.8718\n",
      "Epoch 6/10\n",
      "169713/169713 [==============================] - 58s 341us/step - loss: 0.2604 - acc: 0.8902 - val_loss: 0.3019 - val_acc: 0.8713\n",
      "Epoch 7/10\n",
      "169713/169713 [==============================] - 57s 335us/step - loss: 0.2560 - acc: 0.8915 - val_loss: 0.3038 - val_acc: 0.8701\n",
      "Epoch 8/10\n",
      "169713/169713 [==============================] - 57s 334us/step - loss: 0.2515 - acc: 0.8942 - val_loss: 0.3062 - val_acc: 0.8679\n",
      "Epoch 9/10\n",
      "169713/169713 [==============================] - 57s 334us/step - loss: 0.2466 - acc: 0.8968 - val_loss: 0.3093 - val_acc: 0.8662\n",
      "Epoch 10/10\n",
      "169713/169713 [==============================] - 60s 353us/step - loss: 0.2423 - acc: 0.8993 - val_loss: 0.3112 - val_acc: 0.8682\n"
     ]
    }
   ],
   "source": [
    "history = model.fit(x_train_tv, y_train, batch_size=100, epochs=10, validation_split=0.3)\n"
   ]
  },
  {
   "cell_type": "markdown",
   "metadata": {},
   "source": [
    "# Stage 5: Evaluation\n",
    "\n",
    "\n",
    "**Predicting** the test set result. The prediction result will give you probability of the customer sentiment. \n",
    "We will convert that probability into binary 0 and 1.\n"
   ]
  },
  {
   "cell_type": "code",
   "execution_count": 10,
   "metadata": {},
   "outputs": [],
   "source": [
    "y_predict = model.predict(x_test_tv)\n",
    "y_predict = (y_predict > 0.5)\n"
   ]
  },
  {
   "cell_type": "markdown",
   "metadata": {},
   "source": [
    "We are evaluating our model performance. We already have original results and thus we can build confusion matrix to check the accuracy of model.\n"
   ]
  },
  {
   "cell_type": "code",
   "execution_count": 11,
   "metadata": {},
   "outputs": [
    {
     "data": {
      "image/png": "[encoded data removed]",
      "text/plain": [
       "<Figure size 432x288 with 1 Axes>"
      ]
     },
     "metadata": {
      "needs_background": "light"
     },
     "output_type": "display_data"
    },
    {
     "data": {
      "image/png": "[encoded data removed]",
      "text/plain": [
       "<Figure size 432x288 with 1 Axes>"
      ]
     },
     "metadata": {
      "needs_background": "light"
     },
     "output_type": "display_data"
    }
   ],
   "source": [
    "%matplotlib inline\n",
    "history = model.history\n",
    "\n",
    "#  \"Accuracy\"\n",
    "plt.plot(history.history['acc'])\n",
    "plt.plot(history.history['val_acc'])\n",
    "plt.title('model accuracy')\n",
    "plt.ylabel('accuracy')\n",
    "plt.xlabel('epoch')\n",
    "plt.legend(['train', 'validation'], loc='upper left')\n",
    "plt.show()\n",
    "\n",
    "# \"Loss\"\n",
    "plt.plot(history.history['loss'])\n",
    "plt.plot(history.history['val_loss'])\n",
    "plt.title('model loss')\n",
    "plt.ylabel('loss')\n",
    "plt.xlabel('epoch')\n",
    "plt.legend(['train', 'validation'], loc='upper left')\n",
    "plt.show()\n"
   ]
  },
  {
   "cell_type": "code",
   "execution_count": 12,
   "metadata": {},
   "outputs": [
    {
     "name": "stdout",
     "output_type": "stream",
     "text": [
      " [[11205  8705]\n",
      " [ 5044 78953]]\n",
      " [[ 5044 78953]\n",
      " [11205  8705]]\n"
     ]
    },
    {
     "data": {
      "text/plain": [
       "<matplotlib.axes._subplots.AxesSubplot at 0x1a3ab64898>"
      ]
     },
     "execution_count": 12,
     "metadata": {},
     "output_type": "execute_result"
    },
    {
     "data": {
      "image/png": "[encoded data removed]",
      "text/plain": [
       "<Figure size 432x288 with 2 Axes>"
      ]
     },
     "metadata": {
      "needs_background": "light"
     },
     "output_type": "display_data"
    }
   ],
   "source": [
    "%matplotlib inline\n",
    "# Confusion matrix\n",
    "cm = confusion_matrix(y_test, y_predict)\n",
    "\n",
    "rotated = cm[::-1]\n",
    "print('',cm)\n",
    "print('', rotated)\n",
    "df_cm = pd.DataFrame(cm, ['Positive', 'Negative'], ['Positive', 'Negative'])\n",
    "sns.heatmap(df_cm, annot=True, annot_kws={'size':16}, fmt='g', cmap=\"YlGnBu\")\n"
   ]
  },
  {
   "cell_type": "markdown",
   "metadata": {},
   "source": [
    "The ROC curve is created by plotting the true positive rate (TPR) against the false positive rate (FPR) at various threshold settings."
   ]
  },
  {
   "cell_type": "code",
   "execution_count": 14,
   "metadata": {},
   "outputs": [
    {
     "name": "stdout",
     "output_type": "stream",
     "text": [
      "AUC 0.8924569090377992\n"
     ]
    },
    {
     "data": {
      "image/png": "[encoded data removed]",
      "text/plain": [
       "<Figure size 432x288 with 1 Axes>"
      ]
     },
     "metadata": {
      "needs_background": "light"
     },
     "output_type": "display_data"
    }
   ],
   "source": [
    "%matplotlib inline\n",
    "# AUC report\n",
    "false_positive_rate, true_positive_rate, thresholds = roc_curve(y_test, model.predict(x_test_tv))\n",
    "roc_auc = auc(false_positive_rate, true_positive_rate)\n",
    "print('AUC', roc_auc)\n",
    "\n",
    "plt.title('Receiver Operating Characteristic')\n",
    "plt.plot(false_positive_rate, true_positive_rate, 'b', label = 'AUC = %0.2f' % roc_auc)\n",
    "plt.legend(loc = 'lower right')\n",
    "plt.plot([0, 1], [0, 1],'r--')\n",
    "plt.xlim([0, 1])\n",
    "plt.ylim([0, 1])\n",
    "plt.ylabel('True Positive Rate')\n",
    "plt.xlabel('False Positive Rate')\n",
    "plt.show()\n"
   ]
  },
  {
   "cell_type": "code",
   "execution_count": 15,
   "metadata": {},
   "outputs": [],
   "source": [
    "def plot_classification_report(y_tru, y_prd, figsize=(10, 10), ax=None):\n",
    "\n",
    "    plt.figure(figsize=figsize)\n",
    "\n",
    "    xticks = ['precision', 'recall', 'f1-score', 'support']\n",
    "    yticks = list(np.unique(y_tru))\n",
    "    yticks += ['avg']\n",
    "\n",
    "    rep = np.array(precision_recall_fscore_support(y_tru, y_prd)).T\n",
    "    avg = np.mean(rep, axis=0)\n",
    "    avg[-1] = np.sum(rep[:, -1])\n",
    "    rep = np.insert(rep, rep.shape[0], avg, axis=0)\n",
    "\n",
    "    sns.heatmap(rep,\n",
    "                annot=True, \n",
    "                cbar=False, \n",
    "                xticklabels=xticks, \n",
    "                yticklabels=yticks,\n",
    "                ax=ax,\n",
    "               cmap=sns.diverging_palette(760, 153, l=70, n=7, center=\"dark\"))\n"
   ]
  },
  {
   "cell_type": "code",
   "execution_count": 65,
   "metadata": {},
   "outputs": [
    {
     "name": "stdout",
     "output_type": "stream",
     "text": [
      "               precision    recall  f1-score   support\n",
      "\n",
      "           0       0.68      0.57      0.62     19910\n",
      "           1       0.90      0.94      0.92     83997\n",
      "\n",
      "   micro avg       0.87      0.87      0.87    103907\n",
      "   macro avg       0.79      0.75      0.77    103907\n",
      "weighted avg       0.86      0.87      0.86    103907\n",
      "\n"
     ]
    },
    {
     "data": {
      "image/png": "[encoded data removed]",
      "text/plain": [
       "<Figure size 720x720 with 1 Axes>"
      ]
     },
     "metadata": {
      "needs_background": "light"
     },
     "output_type": "display_data"
    }
   ],
   "source": [
    "print('', classification_report(y_test, y_predict))\n",
    "plot_classification_report(y_test, y_predict)"
   ]
  },
  {
   "cell_type": "markdown",
   "metadata": {},
   "source": [
    "# Stage 6: Deployment"
   ]
  },
  {
   "cell_type": "code",
   "execution_count": 16,
   "metadata": {},
   "outputs": [
    {
     "data": {
      "text/plain": [
       "array([[ True]])"
      ]
     },
     "execution_count": 16,
     "metadata": {},
     "output_type": "execute_result"
    }
   ],
   "source": [
    "# Training\n",
    "# transformed \n",
    "test_vector = vectorizer.transform(['This is pretty good'])\n",
    "actualPredict = model.predict(test_vector)\n",
    "actualPredict = (actualPredict > 0.5) \n",
    "actualPredict"
   ]
  },
  {
   "cell_type": "code",
   "execution_count": 18,
   "metadata": {},
   "outputs": [
    {
     "data": {
      "text/plain": [
       "['classical-model.joblib']"
      ]
     },
     "execution_count": 18,
     "metadata": {},
     "output_type": "execute_result"
    }
   ],
   "source": [
    "from sklearn.externals import joblib\n",
    "\n",
    "joblib.dump(vectorizer, 'classfical-vectorizer.joblib') \n",
    "joblib.dump(model,'classical-model.joblib')"
   ]
  },
  {
   "cell_type": "code",
   "execution_count": null,
   "metadata": {},
   "outputs": [],
   "source": []
  }
 ],
 "metadata": {
  "kernelspec": {
   "display_name": "Python 3",
   "language": "python",
   "name": "python3"
  },
  "language_info": {
   "codemirror_mode": {
    "name": "ipython",
    "version": 3
   },
   "file_extension": ".py",
   "mimetype": "text/x-python",
   "name": "python",
   "nbconvert_exporter": "python",
   "pygments_lexer": "ipython3",
   "version": "3.6.6"
  }
 },
 "nbformat": 4,
 "nbformat_minor": 2
}
